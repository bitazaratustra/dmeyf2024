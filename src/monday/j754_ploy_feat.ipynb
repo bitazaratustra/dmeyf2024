{
 "cells": [
  {
   "cell_type": "markdown",
   "metadata": {
    "id": "pJz8GT5QDbbR"
   },
   "source": [
    "## Instrucciones:\n",
    "\n",
    "Este archivo es una plantilla que deberás completar para la creación de un job que permita ejecutar tu experimento asignado. Es importante reemplazar el nombre genérico del archivo por un identificador único, que será el número asignado al alumno que lo creó. Cada vez que otro alumno utilice ese job, se recompensará al autor original.\n",
    "\n",
    "El job debe ser ejecutable simplemente configurando correctamente las siguientes secciones:\n",
    "- **Parámetros**\n",
    "- **Input**\n",
    "- **Output**\n",
    "\n",
    "El archivo debe ser obligatoriamente un *Jupyter Notebook*, con el fin de facilitar su uso a los alumnos menos técnicos. Sin embargo, si prefieres migrar o adaptar el código a archivos planos para tus propios pipelines, podrás hacerlo, siempre que quede claro el origen del código.\n",
    "\n",
    "El formato del nombre del job debe seguir la siguiente convención:\n",
    "- `j<id_alumno>_<ref>.ipynb`\n",
    "\n",
    "Cada alumno puede generar más de un job, y también puede modificar los jobs de otros, siempre que se respete el nombre original.\n",
    "\n",
    "Para la entrega de la segunda competencia, debes incluir dos componentes:\n",
    "1. Todos los jobs utilizados, con sus nombres originales.\n",
    "2. Un archivo explicando la secuencia en la que se ejecutaron los jobs.\n",
    "\n",
    "Los jobs se compartirán en las slides de los experimentos con el link al repo de github.\n",
    "---\n"
   ]
  },
  {
   "cell_type": "markdown",
   "metadata": {
    "id": "d_xvJXPhCkMA"
   },
   "source": [
    "# Feature Engineering - Agregado de variables como combinaciones matemtáicas de atributos existentes\n",
    "\n",
    "## Autor:Luis Esteban Baldasseroni\n",
    "\n",
    "## Fecha de última modificación: <ie: 29/10/2024>\n",
    "\n",
    "## Descripción: \n",
    "El job permite agregado de features a partir a partir de la librería PolynomialFeatures de sklearn. Utiliza para ese fin la combinacion matemática de las siguientes features:\n",
    "* 'ctarjeta_visa'\n",
    "* 'Visa_cadelantosefectivo'\n",
    "* 'cdescubierto_preacordado'\n",
    "* 'ctrx_quarter'\n",
    "* 'ctarjeta_master'\n",
    "* 'cproductos'\n",
    "* 'Visa_status'\n",
    "* 'cpayroll_trx'\n",
    "* \"mrentabilidad_annual\"\n",
    "* \"mcaja_ahorro\" \n",
    "* \"mcuentas_saldo\" \n",
    "* \"mpasivos_margen\"\n",
    "* \"mactivos_margen\"\n",
    "* \"mpayroll\"\n",
    "\n",
    "\n"
   ]
  },
  {
   "cell_type": "markdown",
   "metadata": {
    "id": "qRTSvXdLHkpB"
   },
   "source": [
    "## Parámetros\n",
    "\n",
    "< Descripción de cada uno de los parámetros que utiliza el job >\n"
   ]
  },
  {
   "cell_type": "code",
   "execution_count": 1,
   "metadata": {
    "id": "yMU00Fl7IIfm"
   },
   "outputs": [],
   "source": [
    "# Ejemplo\n",
    "grado_del_polinomio = 3"
   ]
  },
  {
   "cell_type": "markdown",
   "metadata": {
    "id": "sH5VivJSIM42"
   },
   "source": [
    "## Input\n",
    "\n",
    "< Archivos de datos (csv.gz) con sus paths que van a consumirse por el job>"
   ]
  },
  {
   "cell_type": "code",
   "execution_count": null,
   "metadata": {
    "id": "MEk4Fj7VIv7g"
   },
   "outputs": [],
   "source": [
    "# Ejemplo\n",
    "El dataset debe ser un archiuvo .csv o csv.gz\n",
    "\n",
    "base_path = '<directorio_del_proyecto>'\n",
    "dataset_path = base_path + '<directorio_del_dataset>/'\n",
    "dataset_file = '<dataset_con_variables_mencionadas>'"
   ]
  },
  {
   "cell_type": "markdown",
   "metadata": {
    "id": "fQ6MUhENI0Ya"
   },
   "source": [
    "## Output\n",
    "\n",
    "< Archivos, bases de datos, modelos que va a generar el job>"
   ]
  },
  {
   "cell_type": "code",
   "execution_count": null,
   "metadata": {
    "id": "ZT3kxlkFIv4p"
   },
   "outputs": [],
   "source": [
    "base_path = '/home/baldasseroniluisesteban/buckets/b1/'\n",
    "dataset_path = base_path + 'dataset/'\n",
    "dataset_file = 'competencia_02_poly.csv.gz'"
   ]
  },
  {
   "cell_type": "code",
   "execution_count": null,
   "metadata": {
    "id": "NtIT33WnJFx-"
   },
   "outputs": [],
   "source": [
    "## Procesos"
   ]
  },
  {
   "cell_type": "markdown",
   "metadata": {
    "id": "iVe0GO1IJHtI"
   },
   "source": [
    "### Paquetes necesarios"
   ]
  },
  {
   "cell_type": "code",
   "execution_count": null,
   "metadata": {
    "id": "O2VG2xS_Ivq3"
   },
   "outputs": [],
   "source": [
    "# Ejemplo\n",
    "%pip install PolynomialFeatures\n",
    "%pip install pandas"
   ]
  },
  {
   "cell_type": "markdown",
   "metadata": {
    "id": "0LM2kY_WJj15"
   },
   "source": [
    "## Código del proceso\n",
    "\n",
    "< Todo el código a partir de aquí debe poder ejecutarse sin necesidad de parametrizar nada>"
   ]
  },
  {
   "cell_type": "code",
   "execution_count": null,
   "metadata": {
    "id": "Nr6BNGDUJkWd"
   },
   "outputs": [],
   "source": [
    "df = read_csv(dataset_path + file_path )\n",
    "\n",
    "\n",
    "def ploy_features(df, grado: int = 3)\n",
    "\n",
    "    # Selección de columnas numéricas para la transformación\n",
    "    data_selected = df[['ctarjeta_visa', 'Visa_cadelantosefectivo', 'cdescubierto_preacordado',\n",
    "                        'ctrx_quarter', 'ctarjeta_master', 'cproductos', 'Visa_status',\n",
    "                        'cpayroll_trx']]\n",
    "    \n",
    "    # Instanciación de PolynomialFeatures\n",
    "    poly = PolynomialFeatures(degree=degree, include_bias=False)\n",
    "    \n",
    "    # Aplicar la transformación a los datos seleccionados\n",
    "    data_selected_poly = poly.fit_transform(data_selected)\n",
    "    \n",
    "    # Crear DataFrame con nuevas características generadas\n",
    "    data_selected_poly_df = pd.DataFrame(data_selected_poly, \n",
    "                                         columns=poly.get_feature_names_out(data_selected.columns))\n",
    "    \n",
    "    # Renombrar las nuevas columnas para que no coincidan con las originales\n",
    "    data_selected_poly_df.columns = [f\"poly_{col}\" for col in data_selected_poly_df.columns]\n",
    "    \n",
    "    # Concatenar las nuevas columnas al DataFrame original\n",
    "    df = pd.concat([df, data_selected_poly_df], axis=1)\n",
    "    \n",
    "    return df.to_csv(dataset_path + dataset_file, index=False)\n",
    "\n",
    "ploy_features(df, grado_del_polinomio)"
   ]
  }
 ],
 "metadata": {
  "colab": {
   "provenance": []
  },
  "kernelspec": {
   "display_name": "Python 3 (ipykernel)",
   "language": "python",
   "name": "python3"
  },
  "language_info": {
   "codemirror_mode": {
    "name": "ipython",
    "version": 3
   },
   "file_extension": ".py",
   "mimetype": "text/x-python",
   "name": "python",
   "nbconvert_exporter": "python",
   "pygments_lexer": "ipython3",
   "version": "3.12.3"
  }
 },
 "nbformat": 4,
 "nbformat_minor": 4
}
