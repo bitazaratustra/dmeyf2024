{
 "cells": [
  {
   "cell_type": "markdown",
   "metadata": {},
   "source": [
    "## A. Funciones."
   ]
  },
  {
   "cell_type": "code",
   "execution_count": null,
   "metadata": {},
   "outputs": [],
   "source": [
    "#ii. Evaluación de Ganancia (LGBM).\n",
    "def lgb_gan_eval(y_pred, data):\n",
    "    weight = data.get_weight()\n",
    "    ganancia = np.where(weight == 1.00002, ganancia_acierto, 0) - np.where(weight < 1.00002, costo_estimulo, 0)\n",
    "    ganancia = ganancia[np.argsort(y_pred)[::-1]]\n",
    "    ganancia = np.cumsum(ganancia)\n",
    "\n",
    "    return 'gan_eval', np.max(ganancia) , True\n"
   ]
  },
  {
   "cell_type": "code",
   "execution_count": null,
   "metadata": {},
   "outputs": [],
   "source": [
    "#iii. Probabilidad de Ganancia (LGBM).\n",
    "def ganancia_prob(y_pred, y_true, prop = 1):\n",
    "  ganancia = np.where(y_true == 1, ganancia_acierto, 0) - np.where(y_true == 0, costo_estimulo, 0)\n",
    "  return ganancia[y_pred >= 0.025].sum() / prop"
   ]
  },
  {
   "cell_type": "code",
   "execution_count": null,
   "metadata": {},
   "outputs": [],
   "source": [
    "#iv. Probabilidad de Ganancia (Random Forest).\n",
    "def ganancia_prob_rf(y_hat, y, prop=1, class_index=1, threshold=0.025):\n",
    "  @np.vectorize\n",
    "  def ganancia_row(predicted, actual, threshold=0.025):\n",
    "    return  (predicted >= threshold) * (ganancia_acierto if actual == \"BAJA+2\" else -costo_estimulo)\n",
    "\n",
    "  return ganancia_row(y_hat[:,class_index], y).sum() / prop"
   ]
  },
  {
   "cell_type": "code",
   "execution_count": null,
   "metadata": {},
   "outputs": [],
   "source": [
    "#v. Diferentes funciones y métodos para corregir el efecto de la inflación.\n",
    "def drift_uva(dataset, campos_monetarios, tb_indices):\n",
    "    print(\"inicio drift_UVA()\")\n",
    "    dataset = dataset.merge(tb_indices[['foto_mes', 'UVA']], on='foto_mes', how='left')\n",
    "    for campo in campos_monetarios:\n",
    "        dataset[campo] *= dataset['UVA']\n",
    "    dataset.drop(columns=['UVA'], inplace=True)\n",
    "    print(\"fin drift_UVA()\")\n",
    "    return dataset\n",
    "\n",
    "def drift_deflacion(dataset, campos_monetarios, tb_indices):\n",
    "    print(\"inicio drift_deflacion()\")\n",
    "    dataset = dataset.merge(tb_indices[['foto_mes', 'IPC']], on='foto_mes', how='left')\n",
    "    for campo in campos_monetarios:\n",
    "        dataset[campo] *= dataset['IPC']\n",
    "    dataset.drop(columns=['IPC'], inplace=True)\n",
    "    print(\"fin drift_deflacion()\")\n",
    "    return dataset\n",
    "\n",
    "# Función para estandarizar datos\n",
    "def drift_estandarizar(dataset, campos_drift):\n",
    "    print(\"inicio drift_estandarizar()\")\n",
    "    for campo in campos_drift:\n",
    "        dataset[campo + \"_normal\"] = dataset.groupby('foto_mes')[campo].transform(lambda x: (x - x.mean()) / x.std())\n",
    "        dataset.drop(columns=[campo], inplace=True)\n",
    "    print(\"fin drift_estandarizar()\")\n",
    "    return dataset"
   ]
  },
  {
   "cell_type": "code",
   "execution_count": null,
   "metadata": {},
   "outputs": [],
   "source": [
    "#vi. Adaptación de la función de ganancia para Random Forest.\n",
    "def rf_gan_eval(y_true, y_pred_proba, weights):\n",
    "    # Define los parámetros de ganancia y costo\n",
    "    ganancia_acierto = 7800  # Ajusta según tus datos\n",
    "    costo_estimulo = 200  # Ajusta según tus datos\n",
    "    \n",
    "    # Calcular la ganancia en base a las predicciones y los pesos\n",
    "    ganancia = np.where(weights == 1.00002, ganancia_acierto, 0) - np.where(weights < 1.00002, costo_estimulo, 0)\n",
    "    \n",
    "    # Ordenar las ganancias de acuerdo a las probabilidades de la clase positiva\n",
    "    ganancia = ganancia[np.argsort(y_pred_proba)[::-1]]\n",
    "    \n",
    "    # Cálculo de ganancia acumulada y obtención de la máxima ganancia\n",
    "    ganancia_acumulada = np.cumsum(ganancia)\n",
    "    max_ganancia = np.max(ganancia_acumulada)\n",
    "    \n",
    "    return max_ganancia"
   ]
  }
 ],
 "metadata": {
  "kernelspec": {
   "display_name": "Python 3 (ipykernel)",
   "language": "python",
   "name": "python3"
  },
  "language_info": {
   "codemirror_mode": {
    "name": "ipython",
    "version": 3
   },
   "file_extension": ".py",
   "mimetype": "text/x-python",
   "name": "python",
   "nbconvert_exporter": "python",
   "pygments_lexer": "ipython3",
   "version": "3.12.3"
  }
 },
 "nbformat": 4,
 "nbformat_minor": 4
}
