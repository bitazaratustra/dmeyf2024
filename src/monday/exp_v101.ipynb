{
 "cells": [
  {
   "cell_type": "code",
   "execution_count": 1,
   "id": "1940741b-ec35-447d-8f11-7575b680eba2",
   "metadata": {},
   "outputs": [
    {
     "name": "stdout",
     "output_type": "stream",
     "text": [
      "Collecting optuna==3.6.1\n",
      "  Downloading optuna-3.6.1-py3-none-any.whl.metadata (17 kB)\n",
      "Requirement already satisfied: alembic>=1.5.0 in /home/baldasseroniluisesteban/.venv/lib/python3.12/site-packages (from optuna==3.6.1) (1.13.3)\n",
      "Requirement already satisfied: colorlog in /home/baldasseroniluisesteban/.venv/lib/python3.12/site-packages (from optuna==3.6.1) (6.8.2)\n",
      "Requirement already satisfied: numpy in /home/baldasseroniluisesteban/.venv/lib/python3.12/site-packages (from optuna==3.6.1) (1.26.4)\n",
      "Requirement already satisfied: packaging>=20.0 in /home/baldasseroniluisesteban/.venv/lib/python3.12/site-packages (from optuna==3.6.1) (24.1)\n",
      "Requirement already satisfied: sqlalchemy>=1.3.0 in /home/baldasseroniluisesteban/.venv/lib/python3.12/site-packages (from optuna==3.6.1) (2.0.36)\n",
      "Requirement already satisfied: tqdm in /home/baldasseroniluisesteban/.venv/lib/python3.12/site-packages (from optuna==3.6.1) (4.66.5)\n",
      "Requirement already satisfied: PyYAML in /home/baldasseroniluisesteban/.venv/lib/python3.12/site-packages (from optuna==3.6.1) (6.0.2)\n",
      "Requirement already satisfied: Mako in /home/baldasseroniluisesteban/.venv/lib/python3.12/site-packages (from alembic>=1.5.0->optuna==3.6.1) (1.3.5)\n",
      "Requirement already satisfied: typing-extensions>=4 in /home/baldasseroniluisesteban/.venv/lib/python3.12/site-packages (from alembic>=1.5.0->optuna==3.6.1) (4.12.2)\n",
      "Requirement already satisfied: greenlet!=0.4.17 in /home/baldasseroniluisesteban/.venv/lib/python3.12/site-packages (from sqlalchemy>=1.3.0->optuna==3.6.1) (3.0.3)\n",
      "Requirement already satisfied: MarkupSafe>=0.9.2 in /home/baldasseroniluisesteban/.venv/lib/python3.12/site-packages (from Mako->alembic>=1.5.0->optuna==3.6.1) (3.0.2)\n",
      "Downloading optuna-3.6.1-py3-none-any.whl (380 kB)\n",
      "Installing collected packages: optuna\n",
      "  Attempting uninstall: optuna\n",
      "    Found existing installation: optuna 4.0.0\n",
      "    Uninstalling optuna-4.0.0:\n",
      "      Successfully uninstalled optuna-4.0.0\n",
      "Successfully installed optuna-3.6.1\n",
      "\n",
      "\u001b[1m[\u001b[0m\u001b[34;49mnotice\u001b[0m\u001b[1;39;49m]\u001b[0m\u001b[39;49m A new release of pip is available: \u001b[0m\u001b[31;49m24.2\u001b[0m\u001b[39;49m -> \u001b[0m\u001b[32;49m24.3.1\u001b[0m\n",
      "\u001b[1m[\u001b[0m\u001b[34;49mnotice\u001b[0m\u001b[1;39;49m]\u001b[0m\u001b[39;49m To update, run: \u001b[0m\u001b[32;49mpip install --upgrade pip\u001b[0m\n",
      "Note: you may need to restart the kernel to use updated packages.\n"
     ]
    }
   ],
   "source": [
    "%pip install optuna==3.6.1"
   ]
  },
  {
   "cell_type": "code",
   "execution_count": 2,
   "id": "081f6b18-d0d2-46a9-8507-5dda66258302",
   "metadata": {},
   "outputs": [
    {
     "name": "stderr",
     "output_type": "stream",
     "text": [
      "/home/baldasseroniluisesteban/.venv/lib/python3.12/site-packages/tqdm/auto.py:21: TqdmWarning: IProgress not found. Please update jupyter and ipywidgets. See https://ipywidgets.readthedocs.io/en/stable/user_install.html\n",
      "  from .autonotebook import tqdm as notebook_tqdm\n",
      "Matplotlib is building the font cache; this may take a moment.\n"
     ]
    }
   ],
   "source": [
    "import pandas as pd\n",
    "import optuna\n",
    "from optuna.visualization import plot_optimization_history, plot_param_importances, plot_slice, plot_contour\n",
    "from sklearn.preprocessing import PolynomialFeatures\n",
    "import pandas as pd"
   ]
  },
  {
   "cell_type": "code",
   "execution_count": null,
   "id": "fff241c2-54fb-486c-a500-4fdb1d783fb5",
   "metadata": {
    "scrolled": true
   },
   "outputs": [],
   "source": [
    "base_path = '/home/baldasseroniluisesteban/buckets/b1/'\n",
    "dataset_path = base_path + 'datasets/'\n",
    "\n",
    "\n",
    "df = pd.read_csv(dataset_path + 'competencia_02_sin_nulos.csv.gz')\n",
    "df.head()"
   ]
  },
  {
   "cell_type": "code",
   "execution_count": null,
   "id": "5b60dd50-3ff5-4cf8-b87a-a31cf52cb43f",
   "metadata": {
    "scrolled": true
   },
   "outputs": [],
   "source": [
    "#df.info()"
   ]
  },
  {
   "cell_type": "code",
   "execution_count": null,
   "id": "688f10cd-f54f-4a7f-adb4-a570e085db1c",
   "metadata": {},
   "outputs": [],
   "source": [
    "#df.describe()"
   ]
  },
  {
   "cell_type": "code",
   "execution_count": null,
   "id": "ad512e45-30f8-4b1b-8e79-232a3036110e",
   "metadata": {},
   "outputs": [],
   "source": [
    "ganancia_acierto = 273000\n",
    "costo_estimulo = 7000\n",
    "\n",
    "mes_train_inicio = 202002\n",
    "mes_train_final = 202102\n",
    "mes_test = 202104\n",
    "\n",
    "# agregue sus semillas\n",
    "semillas = [127,181,13]"
   ]
  },
  {
   "cell_type": "code",
   "execution_count": null,
   "id": "4502be50-6864-435e-bf2e-770b41d16400",
   "metadata": {},
   "outputs": [],
   "source": [
    "# Selección de columnas numéricas para la transformación\n",
    "data_selected = df[['ctarjeta_visa', 'Visa_cadelantosefectivo', 'cdescubierto_preacordado',\n",
    "                    'ctrx_quarter', 'ctarjeta_master', 'cproductos', 'Visa_status',\n",
    "                    'cpayroll_trx']]\n",
    "\n",
    "# Instanciación de PolynomialFeatures con grado 3\n",
    "poly = PolynomialFeatures(degree=3, include_bias=False)\n",
    "\n",
    "# Aplicar la transformación a los datos seleccionados\n",
    "data_selected_poly = poly.fit_transform(data_selected)\n",
    "\n",
    "# Crear DataFrame con nuevas características generadas\n",
    "data_selected_poly_df = pd.DataFrame(data_selected_poly, \n",
    "                                     columns=poly.get_feature_names_out(data_selected.columns))\n",
    "\n",
    "# Renombrar las nuevas columnas para que no coincidan con las originales\n",
    "data_selected_poly_df.columns = [f\"poly_{col}\" for col in data_selected_poly_df.columns]\n",
    "\n",
    "# Concatenar las nuevas columnas al DataFrame original\n",
    "df_engine = pd.concat([df, data_selected_poly_df], axis=1)\n"
   ]
  },
  {
   "cell_type": "code",
   "execution_count": null,
   "id": "7b8cfd6c-9c26-4056-890f-758d7d710731",
   "metadata": {},
   "outputs": [],
   "source": [
    "df_engine['clase_peso'] = 1.0\n",
    "\n",
    "df_engine.loc[df_engine['clase_ternaria'] == 'BAJA+2', 'clase_peso'] = 1.00002\n",
    "df_engine.loc[df_engine['clase_ternaria'] == 'BAJA+1', 'clase_peso'] = 1.00001"
   ]
  },
  {
   "cell_type": "code",
   "execution_count": null,
   "id": "c764a0bd-ceb1-4701-be2e-3dc1b718ff3e",
   "metadata": {},
   "outputs": [],
   "source": [
    "import numpy as np\n",
    "\n",
    "df_engine['clase_binaria1'] = 0\n",
    "df_engine['clase_binaria2'] = 0\n",
    "df_engine['clase_binaria1'] = np.where(df_engine['clase_ternaria'] == 'BAJA+2', 1, 0)\n",
    "df_engine['clase_binaria2'] = np.where(df_engine['clase_ternaria'] == 'CONTINUA', 0, 1)"
   ]
  },
  {
   "cell_type": "code",
   "execution_count": null,
   "id": "e70cb347-49af-4b55-8334-fccea4eb2251",
   "metadata": {},
   "outputs": [],
   "source": [
    "train_data_engine = df_engine[(mes_train_inicio <= df_engine['foto_mes']) & (df_engine['foto_mes'] <= mes_train_final)]\n",
    "test_data_engine = df_engine[df_engine['foto_mes'] == mes_test]"
   ]
  },
  {
   "cell_type": "code",
   "execution_count": null,
   "id": "d4ef1c44-b7de-45b4-b868-1745b2e4dc32",
   "metadata": {},
   "outputs": [],
   "source": [
    "X_train_engine = train_data_engine.drop(['clase_ternaria', 'clase_peso', 'clase_binaria1','clase_binaria2'], axis=1)\n",
    "y_train_binaria1_engine = train_data_engine['clase_binaria1']\n",
    "y_train_binaria2_engine = train_data_engine['clase_binaria2']\n",
    "w_train_engine = train_data_engine['clase_peso']\n",
    "\n",
    "X_test_engine = test_data_engine.drop(['clase_ternaria', 'clase_peso', 'clase_binaria1','clase_binaria2'], axis=1)\n",
    "y_test_binaria1_engine = test_data_engine['clase_binaria1']\n",
    "y_test_class_engine = test_data_engine['clase_ternaria']\n",
    "w_test_engine = test_data_engine['clase_peso']"
   ]
  },
  {
   "cell_type": "code",
   "execution_count": null,
   "id": "0c0be66f-e219-43e1-ae93-406a5f8c0647",
   "metadata": {},
   "outputs": [],
   "source": [
    "def lgb_gan_eval(y_pred, data):\n",
    "    weight = data.get_weight()\n",
    "    ganancia = np.where(weight == 1.00002, ganancia_acierto, 0) - np.where(weight < 1.00002, costo_estimulo, 0)\n",
    "    ganancia = ganancia[np.argsort(y_pred)[::-1]]\n",
    "    ganancia = np.cumsum(ganancia)\n",
    "\n",
    "    return 'gan_eval', np.max(ganancia) , True"
   ]
  },
  {
   "cell_type": "code",
   "execution_count": null,
   "id": "a1f07342-7b51-44a5-b468-bb79468d45e7",
   "metadata": {},
   "outputs": [],
   "source": [
    "import lightgbm as lgb\n",
    "\n",
    "train_data1_engine = lgb.Dataset(X_train_engine, label=y_train_binaria1_engine, weight=w_train_engine)\n",
    "train_data2_engine = lgb.Dataset(X_train_engine, label=y_train_binaria2_engine, weight=w_train_engine)"
   ]
  },
  {
   "cell_type": "code",
   "execution_count": null,
   "id": "279140da-de73-4dd3-aa55-3151a43ea9ca",
   "metadata": {},
   "outputs": [],
   "source": [
    "def objective_engine(trial):\n",
    "    num_leaves = trial.suggest_int('num_leaves', 100, 500)\n",
    "    learning_rate = trial.suggest_float('learning_rate', 0.01, 0.2)\n",
    "    min_data_in_leaf = trial.suggest_int('min_data_in_leaf', 10, 1000)\n",
    "    feature_fraction = trial.suggest_float('feature_fraction', 0.3, 1.0)\n",
    "    bagging_fraction = trial.suggest_float('bagging_fraction', 0.3, 1.0)\n",
    "    max_depth = trial.suggest_int('max_depth', 3, 100)\n",
    "    bagging_freq = trial.suggest_int('bagging_freq', 1, 300)\n",
    "\n",
    "    params = {\n",
    "        'objective': 'binary',\n",
    "        'metric': 'custom',\n",
    "        'boosting_type': 'gbdt',\n",
    "        'first_metric_only': True,\n",
    "        'boost_from_average': True,\n",
    "        'feature_pre_filter': False,\n",
    "        'max_bin': 31,\n",
    "        'num_leaves': num_leaves,\n",
    "        'learning_rate': learning_rate,\n",
    "        'min_data_in_leaf': min_data_in_leaf,\n",
    "        'feature_fraction': feature_fraction,\n",
    "        'bagging_fraction': bagging_fraction,\n",
    "        'max_depth': max_depth,\n",
    "        'bagging_freq': bagging_freq,\n",
    "        'seed': semillas[0],\n",
    "        'verbose': -1,\n",
    "        'early_stopping' :30,\n",
    "    }\n",
    "    train_data = lgb.Dataset(X_train_engine,\n",
    "                              label=y_train_binaria2_engine, # eligir la clase\n",
    "                              weight=w_train)\n",
    "\n",
    "    cv_results = lgb.cv(\n",
    "        params,\n",
    "        train_data,\n",
    "        num_boost_round=50,\n",
    "        feval=lgb_gan_eval,\n",
    "        stratified=True,\n",
    "        nfold=5,\n",
    "        seed=semillas[0]\n",
    "    )\n",
    "\n",
    "\n",
    "\n",
    "\n",
    "\n",
    "    max_gan = max(cv_results['valid gan_eval-mean'])\n",
    "    best_iter = cv_results['valid gan_eval-mean'].index(max_gan) + 1\n",
    "\n",
    "    # Guardamos cual es la mejor iteración del modelo\n",
    "    trial.set_user_attr(\"best_iter\", best_iter)\n",
    "\n",
    "    return max_gan * 5\n",
    "\n",
    "\n",
    "storage_name = \"sqlite:///\" + dataset_path + \"optimization_lgbm_engine.db\"\n",
    "study_name = \"exp_101_lgbm_engine\"\n",
    "\n",
    "study = optuna.create_study(\n",
    "    direction=\"maximize\",\n",
    "    study_name=study_name,\n",
    "    storage=storage_name,\n",
    "    load_if_exists=True,\n",
    ")"
   ]
  },
  {
   "cell_type": "code",
   "execution_count": null,
   "id": "1aff3900-48ad-4fb6-9a28-767519377044",
   "metadata": {},
   "outputs": [],
   "source": [
    "study.optimize(objective_engine, n_trials=50) # subir subir"
   ]
  },
  {
   "cell_type": "code",
   "execution_count": null,
   "id": "5b97b553-fcff-4238-bb54-a6beece45fe7",
   "metadata": {},
   "outputs": [],
   "source": [
    "optuna.visualization.plot_optimization_history(study)"
   ]
  },
  {
   "cell_type": "code",
   "execution_count": null,
   "id": "ecffb96c-68ff-44b7-b1a3-38462aa8d6f0",
   "metadata": {},
   "outputs": [],
   "source": [
    "df['clase_peso'] = 1.0\n",
    "\n",
    "df.loc[df['clase_ternaria'] == 'BAJA+2', 'clase_peso'] = 1.00002\n",
    "df.loc[df['clase_ternaria'] == 'BAJA+1', 'clase_peso'] = 1.00001"
   ]
  },
  {
   "cell_type": "code",
   "execution_count": null,
   "id": "f16b2f4a-3300-49cf-b5b9-830dbd429dd6",
   "metadata": {},
   "outputs": [],
   "source": [
    "df['clase_binaria1'] = 0\n",
    "df['clase_binaria2'] = 0\n",
    "df['clase_binaria1'] = np.where(df['clase_ternaria'] == 'BAJA+2', 1, 0)\n",
    "df['clase_binaria2'] = np.where(df['clase_ternaria'] == 'CONTINUA', 0, 1)"
   ]
  },
  {
   "cell_type": "code",
   "execution_count": null,
   "id": "0b00aabf-f03f-4838-9d39-f69871ff1d7a",
   "metadata": {},
   "outputs": [],
   "source": [
    "train_data = df[(mes_train_inicio <= df['foto_mes']) & (df['foto_mes'] <= mes_train_final)]\n",
    "test_data = df[df['foto_mes'] == mes_test]"
   ]
  },
  {
   "cell_type": "code",
   "execution_count": null,
   "id": "22c30016-b77c-4e8b-b925-ba45a0d4cb7c",
   "metadata": {},
   "outputs": [],
   "source": [
    "X_train = train_data.drop(['clase_ternaria', 'clase_peso', 'clase_binaria1','clase_binaria2'], axis=1)\n",
    "y_train_binaria1 = train_data['clase_binaria1']\n",
    "y_train_binaria2 = train_data['clase_binaria2']\n",
    "w_train = train_data['clase_peso']\n",
    "\n",
    "X_test = test_data.drop(['clase_ternaria', 'clase_peso', 'clase_binaria1','clase_binaria2'], axis=1)\n",
    "y_test_binaria1 = test_data['clase_binaria1']\n",
    "y_test_class = test_data['clase_ternaria']\n",
    "w_test = test_data['clase_peso']"
   ]
  },
  {
   "cell_type": "code",
   "execution_count": null,
   "id": "a7bb1db7-1295-4b66-92c9-70dfa13b27ad",
   "metadata": {},
   "outputs": [],
   "source": [
    "import lightgbm as lgb\n",
    "\n",
    "train_data1 = lgb.Dataset(X_train, label=y_train_binaria1, weight=w_train)\n",
    "train_data2 = lgb.Dataset(X_train, label=y_train_binaria2, weight=w_train)"
   ]
  },
  {
   "cell_type": "code",
   "execution_count": null,
   "id": "9ca0a4da-c145-47fb-8413-cb237c03cb67",
   "metadata": {},
   "outputs": [],
   "source": [
    "def objective(trial):\n",
    "    num_leaves = trial.suggest_int('num_leaves', 100, 500)\n",
    "    learning_rate = trial.suggest_float('learning_rate', 0.01, 0.2)\n",
    "    min_data_in_leaf = trial.suggest_int('min_data_in_leaf', 10, 1000)\n",
    "    feature_fraction = trial.suggest_float('feature_fraction', 0.3, 1.0)\n",
    "    bagging_fraction = trial.suggest_float('bagging_fraction', 0.3, 1.0)\n",
    "    max_depth = trial.suggest_int('max_depth', 3, 100)\n",
    "    bagging_freq = trial.suggest_int('bagging_freq', 1, 300)\n",
    "\n",
    "    params = {\n",
    "        'objective': 'binary',\n",
    "        'metric': 'custom',\n",
    "        'boosting_type': 'gbdt',\n",
    "        'first_metric_only': True,\n",
    "        'boost_from_average': True,\n",
    "        'feature_pre_filter': False,\n",
    "        'max_bin': 31,\n",
    "        'num_leaves': num_leaves,\n",
    "        'learning_rate': learning_rate,\n",
    "        'min_data_in_leaf': min_data_in_leaf,\n",
    "        'feature_fraction': feature_fraction,\n",
    "        'bagging_fraction': bagging_fraction,\n",
    "        'max_depth': max_depth,\n",
    "        'bagging_freq': bagging_freq,\n",
    "        'seed': semillas[0],\n",
    "        'verbose': -1,\n",
    "        'early_stopping' :30,\n",
    "    }\n",
    "    train_data = lgb.Dataset(X_train,\n",
    "                              label=y_train_binaria2, # eligir la clase\n",
    "                              weight=w_train)\n",
    "\n",
    "    cv_results = lgb.cv(\n",
    "        params,\n",
    "        train_data,\n",
    "        num_boost_round=50,\n",
    "        feval=lgb_gan_eval,\n",
    "        stratified=True,\n",
    "        nfold=5,\n",
    "        seed=semillas[0]\n",
    "    )\n",
    "\n",
    "\n",
    "\n",
    "\n",
    "\n",
    "    max_gan = max(cv_results['valid gan_eval-mean'])\n",
    "    best_iter = cv_results['valid gan_eval-mean'].index(max_gan) + 1\n",
    "\n",
    "    # Guardamos cual es la mejor iteración del modelo\n",
    "    trial.set_user_attr(\"best_iter\", best_iter)\n",
    "\n",
    "    return max_gan * 5\n",
    "\n",
    "\n",
    "storage_name = \"sqlite:///\" + dataset_path + \"optimization_lgbm_base.db\"\n",
    "study_name = \"exp_101_lgbm_base\"\n",
    "\n",
    "study = optuna.create_study(\n",
    "    direction=\"maximize\",\n",
    "    study_name=study_name,\n",
    "    storage=storage_name,\n",
    "    load_if_exists=True,\n",
    ")"
   ]
  },
  {
   "cell_type": "code",
   "execution_count": null,
   "id": "7faef11c-e4a0-4083-9ac6-becd5e522230",
   "metadata": {},
   "outputs": [],
   "source": [
    "study.optimize(objective, n_trials=50) # subir subir"
   ]
  },
  {
   "cell_type": "code",
   "execution_count": null,
   "id": "c64050f7-631f-4e56-922a-c03a322a0988",
   "metadata": {},
   "outputs": [],
   "source": [
    "optuna.visualization.plot_optimization_history(study)"
   ]
  },
  {
   "cell_type": "code",
   "execution_count": null,
   "id": "9052e3ff-9c14-46ff-988a-b619036317c9",
   "metadata": {},
   "outputs": [],
   "source": []
  }
 ],
 "metadata": {
  "kernelspec": {
   "display_name": "Python 3 (ipykernel)",
   "language": "python",
   "name": "python3"
  },
  "language_info": {
   "codemirror_mode": {
    "name": "ipython",
    "version": 3
   },
   "file_extension": ".py",
   "mimetype": "text/x-python",
   "name": "python",
   "nbconvert_exporter": "python",
   "pygments_lexer": "ipython3",
   "version": "3.12.3"
  }
 },
 "nbformat": 4,
 "nbformat_minor": 5
}
