{
 "cells": [
  {
   "cell_type": "code",
   "execution_count": 1,
   "metadata": {},
   "outputs": [],
   "source": [
    "# Por ahora, se corre solamente \"Configuraciones generales\" y \"Ajustes por inflación\"."
   ]
  },
  {
   "cell_type": "markdown",
   "metadata": {},
   "source": [
    "## A. Configuraciones generales."
   ]
  },
  {
   "cell_type": "code",
   "execution_count": 2,
   "metadata": {},
   "outputs": [
    {
     "name": "stderr",
     "output_type": "stream",
     "text": [
      "Matplotlib is building the font cache; this may take a moment.\n"
     ]
    },
    {
     "data": {
      "text/html": [
       "<style type='text/css'>\n",
       ".datatable table.frame { margin-bottom: 0; }\n",
       ".datatable table.frame thead { border-bottom: none; }\n",
       ".datatable table.frame tr.coltypes td {  color: #FFFFFF;  line-height: 6px;  padding: 0 0.5em;}\n",
       ".datatable .bool    { background: #DDDD99; }\n",
       ".datatable .object  { background: #565656; }\n",
       ".datatable .int     { background: #5D9E5D; }\n",
       ".datatable .float   { background: #4040CC; }\n",
       ".datatable .str     { background: #CC4040; }\n",
       ".datatable .time    { background: #40CC40; }\n",
       ".datatable .row_index {  background: var(--jp-border-color3);  border-right: 1px solid var(--jp-border-color0);  color: var(--jp-ui-font-color3);  font-size: 9px;}\n",
       ".datatable .frame tbody td { text-align: left; }\n",
       ".datatable .frame tr.coltypes .row_index {  background: var(--jp-border-color0);}\n",
       ".datatable th:nth-child(2) { padding-left: 12px; }\n",
       ".datatable .hellipsis {  color: var(--jp-cell-editor-border-color);}\n",
       ".datatable .vellipsis {  background: var(--jp-layout-color0);  color: var(--jp-cell-editor-border-color);}\n",
       ".datatable .na {  color: var(--jp-cell-editor-border-color);  font-size: 80%;}\n",
       ".datatable .sp {  opacity: 0.25;}\n",
       ".datatable .footer { font-size: 9px; }\n",
       ".datatable .frame_dimensions {  background: var(--jp-border-color3);  border-top: 1px solid var(--jp-border-color0);  color: var(--jp-ui-font-color3);  display: inline-block;  opacity: 0.6;  padding: 1px 10px 1px 5px;}\n",
       "</style>\n"
      ],
      "text/plain": [
       "<IPython.core.display.HTML object>"
      ]
     },
     "metadata": {},
     "output_type": "display_data"
    },
    {
     "name": "stderr",
     "output_type": "stream",
     "text": [
      "/home/baldasseroniluisesteban/.venv/lib/python3.12/site-packages/dask/dataframe/__init__.py:42: FutureWarning: \n",
      "Dask dataframe query planning is disabled because dask-expr is not installed.\n",
      "\n",
      "You can install it with `pip install dask[dataframe]` or `conda install dask`.\n",
      "This will raise in a future version.\n",
      "\n",
      "  warnings.warn(msg, FutureWarning)\n",
      "/home/baldasseroniluisesteban/.venv/lib/python3.12/site-packages/tqdm/auto.py:21: TqdmWarning: IProgress not found. Please update jupyter and ipywidgets. See https://ipywidgets.readthedocs.io/en/stable/user_install.html\n",
      "  from .autonotebook import tqdm as notebook_tqdm\n"
     ]
    }
   ],
   "source": [
    "#1. Librerías.\n",
    "%run \"../librerias.ipynb\""
   ]
  },
  {
   "cell_type": "code",
   "execution_count": 3,
   "metadata": {},
   "outputs": [],
   "source": [
    "#2. Constantes.\n",
    "%run \"../constantes.ipynb\"\n",
    "\n",
    "mes_train = mes_train_all_menos_1\n",
    "mes_test = mes_test\n",
    "dataset_output = dataset_file_preprocesado_all_1"
   ]
  },
  {
   "cell_type": "code",
   "execution_count": 4,
   "metadata": {},
   "outputs": [],
   "source": [
    "#3. Funciones.\n",
    "%run \"../funciones.ipynb\""
   ]
  },
  {
   "cell_type": "code",
   "execution_count": 5,
   "metadata": {},
   "outputs": [],
   "source": [
    "#4. Lectura de datos.\n",
    "data = pd.read_csv(dataset_file_clase_ternaria)"
   ]
  },
  {
   "cell_type": "markdown",
   "metadata": {},
   "source": [
    "## B. Data Quality."
   ]
  },
  {
   "cell_type": "markdown",
   "metadata": {},
   "source": [
    "#### 1. Valores nulos."
   ]
  },
  {
   "cell_type": "code",
   "execution_count": 6,
   "metadata": {},
   "outputs": [
    {
     "data": {
      "text/html": [
       "<div>\n",
       "<style scoped>\n",
       "    .dataframe tbody tr th:only-of-type {\n",
       "        vertical-align: middle;\n",
       "    }\n",
       "\n",
       "    .dataframe tbody tr th {\n",
       "        vertical-align: top;\n",
       "    }\n",
       "\n",
       "    .dataframe thead th {\n",
       "        text-align: right;\n",
       "    }\n",
       "</style>\n",
       "<table border=\"1\" class=\"dataframe\">\n",
       "  <thead>\n",
       "    <tr style=\"text-align: right;\">\n",
       "      <th></th>\n",
       "      <th>Train Null Percentage</th>\n",
       "      <th>Score Null Percentage</th>\n",
       "      <th>diff</th>\n",
       "    </tr>\n",
       "  </thead>\n",
       "  <tbody>\n",
       "    <tr>\n",
       "      <th>clase_ternaria</th>\n",
       "      <td>0.000000</td>\n",
       "      <td>100.000000</td>\n",
       "      <td>100.000000</td>\n",
       "    </tr>\n",
       "    <tr>\n",
       "      <th>tmobile_app</th>\n",
       "      <td>14.860731</td>\n",
       "      <td>0.000000</td>\n",
       "      <td>14.860731</td>\n",
       "    </tr>\n",
       "    <tr>\n",
       "      <th>cmobile_app_trx</th>\n",
       "      <td>14.860731</td>\n",
       "      <td>0.000000</td>\n",
       "      <td>14.860731</td>\n",
       "    </tr>\n",
       "    <tr>\n",
       "      <th>Master_mconsumospesos</th>\n",
       "      <td>60.340490</td>\n",
       "      <td>56.999952</td>\n",
       "      <td>3.340538</td>\n",
       "    </tr>\n",
       "    <tr>\n",
       "      <th>Master_cconsumos</th>\n",
       "      <td>60.340490</td>\n",
       "      <td>56.999952</td>\n",
       "      <td>3.340538</td>\n",
       "    </tr>\n",
       "    <tr>\n",
       "      <th>...</th>\n",
       "      <td>...</td>\n",
       "      <td>...</td>\n",
       "      <td>...</td>\n",
       "    </tr>\n",
       "    <tr>\n",
       "      <th>mpayroll</th>\n",
       "      <td>0.000000</td>\n",
       "      <td>0.000000</td>\n",
       "      <td>0.000000</td>\n",
       "    </tr>\n",
       "    <tr>\n",
       "      <th>mpayroll2</th>\n",
       "      <td>0.000000</td>\n",
       "      <td>0.000000</td>\n",
       "      <td>0.000000</td>\n",
       "    </tr>\n",
       "    <tr>\n",
       "      <th>cpayroll2_trx</th>\n",
       "      <td>0.000000</td>\n",
       "      <td>0.000000</td>\n",
       "      <td>0.000000</td>\n",
       "    </tr>\n",
       "    <tr>\n",
       "      <th>ccuenta_debitos_automaticos</th>\n",
       "      <td>0.000000</td>\n",
       "      <td>0.000000</td>\n",
       "      <td>0.000000</td>\n",
       "    </tr>\n",
       "    <tr>\n",
       "      <th>mforex_buy</th>\n",
       "      <td>0.000000</td>\n",
       "      <td>0.000000</td>\n",
       "      <td>0.000000</td>\n",
       "    </tr>\n",
       "  </tbody>\n",
       "</table>\n",
       "<p>155 rows × 3 columns</p>\n",
       "</div>"
      ],
      "text/plain": [
       "                             Train Null Percentage  Score Null Percentage  \\\n",
       "clase_ternaria                            0.000000             100.000000   \n",
       "tmobile_app                              14.860731               0.000000   \n",
       "cmobile_app_trx                          14.860731               0.000000   \n",
       "Master_mconsumospesos                    60.340490              56.999952   \n",
       "Master_cconsumos                         60.340490              56.999952   \n",
       "...                                            ...                    ...   \n",
       "mpayroll                                  0.000000               0.000000   \n",
       "mpayroll2                                 0.000000               0.000000   \n",
       "cpayroll2_trx                             0.000000               0.000000   \n",
       "ccuenta_debitos_automaticos               0.000000               0.000000   \n",
       "mforex_buy                                0.000000               0.000000   \n",
       "\n",
       "                                   diff  \n",
       "clase_ternaria               100.000000  \n",
       "tmobile_app                   14.860731  \n",
       "cmobile_app_trx               14.860731  \n",
       "Master_mconsumospesos          3.340538  \n",
       "Master_cconsumos               3.340538  \n",
       "...                                 ...  \n",
       "mpayroll                       0.000000  \n",
       "mpayroll2                      0.000000  \n",
       "cpayroll2_trx                  0.000000  \n",
       "ccuenta_debitos_automaticos    0.000000  \n",
       "mforex_buy                     0.000000  \n",
       "\n",
       "[155 rows x 3 columns]"
      ]
     },
     "execution_count": 6,
     "metadata": {},
     "output_type": "execute_result"
    }
   ],
   "source": [
    "#a. Evaluamos.\n",
    "train_data = data[data['foto_mes'].isin(mes_train)]\n",
    "score_data = data[data['foto_mes'] == mes_test]\n",
    "\n",
    "train_null_percentage = train_data.isnull().mean() * 100\n",
    "score_null_percentage = score_data.isnull().mean() * 100\n",
    "\n",
    "comparison_df = pd.DataFrame({'Train Null Percentage': train_null_percentage, 'Score Null Percentage': score_null_percentage})\n",
    "comparison_df['diff'] = (comparison_df['Score Null Percentage'] - comparison_df['Train Null Percentage']).abs()\n",
    "\n",
    "comparison_df_sorted = comparison_df.sort_values('diff', ascending=False)\n",
    "\n",
    "comparison_df_sorted"
   ]
  },
  {
   "cell_type": "markdown",
   "metadata": {},
   "source": [
    "#### 2. Valores 0."
   ]
  },
  {
   "cell_type": "code",
   "execution_count": 7,
   "metadata": {},
   "outputs": [],
   "source": [
    "#a. Evaluamos.\n",
    "train_zero_percentage = (train_data == 0).mean() * 100\n",
    "score_zero_percentage = (score_data == 0).mean() * 100\n",
    "\n",
    "comparison_df_zero = pd.DataFrame({'Train Zero Percentage': train_zero_percentage, 'Score Zero Percentage': score_zero_percentage})\n",
    "\n",
    "comparison_df_zero['diff_zero_percentage'] = (comparison_df_zero['Score Zero Percentage'] - comparison_df_zero['Train Zero Percentage']).abs()\n",
    "diff_zero_percentage_sorted = comparison_df_zero.sort_values('diff_zero_percentage',ascending=False)"
   ]
  },
  {
   "cell_type": "code",
   "execution_count": 8,
   "metadata": {},
   "outputs": [
    {
     "name": "stderr",
     "output_type": "stream",
     "text": [
      "/tmp/ipykernel_4713/277921246.py:5: SettingWithCopyWarning: \n",
      "A value is trying to be set on a copy of a slice from a DataFrame\n",
      "\n",
      "See the caveats in the documentation: https://pandas.pydata.org/pandas-docs/stable/user_guide/indexing.html#returning-a-view-versus-a-copy\n",
      "  train_data.drop(cols_eliminar,axis=1,inplace=True)\n",
      "/tmp/ipykernel_4713/277921246.py:6: SettingWithCopyWarning: \n",
      "A value is trying to be set on a copy of a slice from a DataFrame\n",
      "\n",
      "See the caveats in the documentation: https://pandas.pydata.org/pandas-docs/stable/user_guide/indexing.html#returning-a-view-versus-a-copy\n",
      "  score_data.drop(cols_eliminar,axis=1,inplace=True)\n"
     ]
    }
   ],
   "source": [
    "#b. Decidimos eliminar aquellas columnas con un gran cambio en la cantidad de 0 en el mes test.\n",
    "cols_eliminar = list(diff_zero_percentage_sorted[(diff_zero_percentage_sorted[\"diff_zero_percentage\"] > 5) & (diff_zero_percentage_sorted[\"Score Zero Percentage\"] > diff_zero_percentage_sorted[\"Train Zero Percentage\"])].index)\n",
    "data.drop(cols_eliminar,axis=1,inplace=True)\n",
    "\n",
    "train_data.drop(cols_eliminar,axis=1,inplace=True)\n",
    "score_data.drop(cols_eliminar,axis=1,inplace=True)"
   ]
  },
  {
   "cell_type": "markdown",
   "metadata": {},
   "source": [
    "#### 3. Valores <0."
   ]
  },
  {
   "cell_type": "code",
   "execution_count": 9,
   "metadata": {},
   "outputs": [
    {
     "data": {
      "text/html": [
       "<div>\n",
       "<style scoped>\n",
       "    .dataframe tbody tr th:only-of-type {\n",
       "        vertical-align: middle;\n",
       "    }\n",
       "\n",
       "    .dataframe tbody tr th {\n",
       "        vertical-align: top;\n",
       "    }\n",
       "\n",
       "    .dataframe thead th {\n",
       "        text-align: right;\n",
       "    }\n",
       "</style>\n",
       "<table border=\"1\" class=\"dataframe\">\n",
       "  <thead>\n",
       "    <tr style=\"text-align: right;\">\n",
       "      <th></th>\n",
       "      <th>Train Negative Percentage</th>\n",
       "      <th>Score Negative Percentage</th>\n",
       "      <th>diff_negative_percentage</th>\n",
       "    </tr>\n",
       "  </thead>\n",
       "  <tbody>\n",
       "    <tr>\n",
       "      <th>Visa_fultimo_cierre</th>\n",
       "      <td>4.417596</td>\n",
       "      <td>0.000000</td>\n",
       "      <td>4.417596</td>\n",
       "    </tr>\n",
       "    <tr>\n",
       "      <th>Master_fultimo_cierre</th>\n",
       "      <td>4.291388</td>\n",
       "      <td>0.000000</td>\n",
       "      <td>4.291388</td>\n",
       "    </tr>\n",
       "    <tr>\n",
       "      <th>mcuenta_corriente</th>\n",
       "      <td>0.001822</td>\n",
       "      <td>0.003622</td>\n",
       "      <td>0.001800</td>\n",
       "    </tr>\n",
       "    <tr>\n",
       "      <th>Master_Finiciomora</th>\n",
       "      <td>0.001028</td>\n",
       "      <td>0.000000</td>\n",
       "      <td>0.001028</td>\n",
       "    </tr>\n",
       "    <tr>\n",
       "      <th>Master_msaldototal</th>\n",
       "      <td>0.003107</td>\n",
       "      <td>0.002415</td>\n",
       "      <td>0.000692</td>\n",
       "    </tr>\n",
       "    <tr>\n",
       "      <th>...</th>\n",
       "      <td>...</td>\n",
       "      <td>...</td>\n",
       "      <td>...</td>\n",
       "    </tr>\n",
       "    <tr>\n",
       "      <th>cseguro_accidentes_personales</th>\n",
       "      <td>0.000000</td>\n",
       "      <td>0.000000</td>\n",
       "      <td>0.000000</td>\n",
       "    </tr>\n",
       "    <tr>\n",
       "      <th>cseguro_vivienda</th>\n",
       "      <td>0.000000</td>\n",
       "      <td>0.000000</td>\n",
       "      <td>0.000000</td>\n",
       "    </tr>\n",
       "    <tr>\n",
       "      <th>cseguro_auto</th>\n",
       "      <td>0.000000</td>\n",
       "      <td>0.000000</td>\n",
       "      <td>0.000000</td>\n",
       "    </tr>\n",
       "    <tr>\n",
       "      <th>cseguro_vida</th>\n",
       "      <td>0.000000</td>\n",
       "      <td>0.000000</td>\n",
       "      <td>0.000000</td>\n",
       "    </tr>\n",
       "    <tr>\n",
       "      <th>clase_ternaria</th>\n",
       "      <td>0.000000</td>\n",
       "      <td>0.000000</td>\n",
       "      <td>0.000000</td>\n",
       "    </tr>\n",
       "  </tbody>\n",
       "</table>\n",
       "<p>142 rows × 3 columns</p>\n",
       "</div>"
      ],
      "text/plain": [
       "                               Train Negative Percentage  \\\n",
       "Visa_fultimo_cierre                             4.417596   \n",
       "Master_fultimo_cierre                           4.291388   \n",
       "mcuenta_corriente                               0.001822   \n",
       "Master_Finiciomora                              0.001028   \n",
       "Master_msaldototal                              0.003107   \n",
       "...                                                  ...   \n",
       "cseguro_accidentes_personales                   0.000000   \n",
       "cseguro_vivienda                                0.000000   \n",
       "cseguro_auto                                    0.000000   \n",
       "cseguro_vida                                    0.000000   \n",
       "clase_ternaria                                  0.000000   \n",
       "\n",
       "                               Score Negative Percentage  \\\n",
       "Visa_fultimo_cierre                             0.000000   \n",
       "Master_fultimo_cierre                           0.000000   \n",
       "mcuenta_corriente                               0.003622   \n",
       "Master_Finiciomora                              0.000000   \n",
       "Master_msaldototal                              0.002415   \n",
       "...                                                  ...   \n",
       "cseguro_accidentes_personales                   0.000000   \n",
       "cseguro_vivienda                                0.000000   \n",
       "cseguro_auto                                    0.000000   \n",
       "cseguro_vida                                    0.000000   \n",
       "clase_ternaria                                  0.000000   \n",
       "\n",
       "                               diff_negative_percentage  \n",
       "Visa_fultimo_cierre                            4.417596  \n",
       "Master_fultimo_cierre                          4.291388  \n",
       "mcuenta_corriente                              0.001800  \n",
       "Master_Finiciomora                             0.001028  \n",
       "Master_msaldototal                             0.000692  \n",
       "...                                                 ...  \n",
       "cseguro_accidentes_personales                  0.000000  \n",
       "cseguro_vivienda                               0.000000  \n",
       "cseguro_auto                                   0.000000  \n",
       "cseguro_vida                                   0.000000  \n",
       "clase_ternaria                                 0.000000  \n",
       "\n",
       "[142 rows x 3 columns]"
      ]
     },
     "execution_count": 9,
     "metadata": {},
     "output_type": "execute_result"
    }
   ],
   "source": [
    "#a. Evaluamos.\n",
    "train_negative_percentage = (train_data == -1).mean() * 100\n",
    "score_negative_percentage = (score_data == -1).mean() * 100\n",
    "\n",
    "comparison_df_zero = pd.DataFrame({'Train Negative Percentage': train_negative_percentage, 'Score Negative Percentage': score_negative_percentage})\n",
    "\n",
    "comparison_df_zero['diff_negative_percentage'] = (comparison_df_zero['Score Negative Percentage'] - comparison_df_zero['Train Negative Percentage']).abs()\n",
    "diff_negative_percentage_sorted = comparison_df_zero.sort_values('diff_negative_percentage',ascending=False)\n",
    "\n",
    "diff_negative_percentage_sorted"
   ]
  },
  {
   "cell_type": "markdown",
   "metadata": {},
   "source": [
    "#### 4. Valores duplicados."
   ]
  },
  {
   "cell_type": "code",
   "execution_count": 10,
   "metadata": {},
   "outputs": [
    {
     "name": "stdout",
     "output_type": "stream",
     "text": [
      "Train tiene 0 valores duplicados\n",
      "Test tiene 0 valores duplicados\n"
     ]
    }
   ],
   "source": [
    "#a. Verifico.\n",
    "print(\"Train tiene {} valores duplicados\".format(train_data.duplicated().sum()))\n",
    "print(\"Test tiene {} valores duplicados\".format(score_data.duplicated().sum()))"
   ]
  },
  {
   "cell_type": "markdown",
   "metadata": {},
   "source": [
    "## C. Ajustes por inflación."
   ]
  },
  {
   "cell_type": "code",
   "execution_count": 11,
   "metadata": {},
   "outputs": [],
   "source": [
    "#1. Defino los campos que voy a ajustar por inflación.\n",
    "campos_monetarios = [col for col in data.columns if col.startswith(('m', 'Visa_m', 'Master_m', 'vm_m'))]"
   ]
  },
  {
   "cell_type": "code",
   "execution_count": 12,
   "metadata": {},
   "outputs": [
    {
     "name": "stdout",
     "output_type": "stream",
     "text": [
      "inicio drift_deflacion()\n",
      "fin drift_deflacion()\n"
     ]
    }
   ],
   "source": [
    "#2. Le aplico la inflación a todas ellas.\n",
    "data = drift_deflacion(data, campos_monetarios, tb_indices)"
   ]
  },
  {
   "cell_type": "markdown",
   "metadata": {},
   "source": [
    "## D. Exportación."
   ]
  },
  {
   "cell_type": "code",
   "execution_count": 13,
   "metadata": {},
   "outputs": [],
   "source": [
    "#1. Exportación propiamente dicha.\n",
    "data.to_csv(dataset_output,index=False)"
   ]
  },
  {
   "cell_type": "code",
   "execution_count": 14,
   "metadata": {},
   "outputs": [
    {
     "data": {
      "text/plain": [
       "array([201901, 201902, 201903, 201904, 201905, 201906, 201907, 201908,\n",
       "       201909, 201910, 201911, 201912, 202001, 202002, 202003, 202004,\n",
       "       202005, 202006, 202007, 202008, 202009, 202010, 202011, 202012,\n",
       "       202101, 202102, 202103, 202104, 202105, 202106, 202107, 202108,\n",
       "       202109])"
      ]
     },
     "execution_count": 14,
     "metadata": {},
     "output_type": "execute_result"
    }
   ],
   "source": [
    "data['foto_mes'].unique()"
   ]
  },
  {
   "cell_type": "code",
   "execution_count": null,
   "metadata": {},
   "outputs": [],
   "source": []
  },
  {
   "cell_type": "code",
   "execution_count": null,
   "metadata": {},
   "outputs": [],
   "source": []
  },
  {
   "cell_type": "code",
   "execution_count": null,
   "metadata": {},
   "outputs": [],
   "source": []
  },
  {
   "cell_type": "code",
   "execution_count": null,
   "metadata": {},
   "outputs": [],
   "source": []
  },
  {
   "cell_type": "code",
   "execution_count": null,
   "metadata": {},
   "outputs": [],
   "source": []
  }
 ],
 "metadata": {
  "kernelspec": {
   "display_name": "Python 3 (ipykernel)",
   "language": "python",
   "name": "python3"
  },
  "language_info": {
   "codemirror_mode": {
    "name": "ipython",
    "version": 3
   },
   "file_extension": ".py",
   "mimetype": "text/x-python",
   "name": "python",
   "nbconvert_exporter": "python",
   "pygments_lexer": "ipython3",
   "version": "3.12.3"
  }
 },
 "nbformat": 4,
 "nbformat_minor": 4
}
