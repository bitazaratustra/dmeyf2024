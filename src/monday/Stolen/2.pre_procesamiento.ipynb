{
 "cells": [
  {
   "cell_type": "code",
   "execution_count": 1,
   "metadata": {},
   "outputs": [],
   "source": [
    "# Por ahora, se corre solamente \"Configuraciones generales\" y \"Ajustes por inflación\"."
   ]
  },
  {
   "cell_type": "markdown",
   "metadata": {},
   "source": [
    "## A. Configuraciones generales."
   ]
  },
  {
   "cell_type": "code",
   "execution_count": 2,
   "metadata": {},
   "outputs": [
    {
     "data": {
      "text/html": [
       "<style type='text/css'>\n",
       ".datatable table.frame { margin-bottom: 0; }\n",
       ".datatable table.frame thead { border-bottom: none; }\n",
       ".datatable table.frame tr.coltypes td {  color: #FFFFFF;  line-height: 6px;  padding: 0 0.5em;}\n",
       ".datatable .bool    { background: #DDDD99; }\n",
       ".datatable .object  { background: #565656; }\n",
       ".datatable .int     { background: #5D9E5D; }\n",
       ".datatable .float   { background: #4040CC; }\n",
       ".datatable .str     { background: #CC4040; }\n",
       ".datatable .time    { background: #40CC40; }\n",
       ".datatable .row_index {  background: var(--jp-border-color3);  border-right: 1px solid var(--jp-border-color0);  color: var(--jp-ui-font-color3);  font-size: 9px;}\n",
       ".datatable .frame tbody td { text-align: left; }\n",
       ".datatable .frame tr.coltypes .row_index {  background: var(--jp-border-color0);}\n",
       ".datatable th:nth-child(2) { padding-left: 12px; }\n",
       ".datatable .hellipsis {  color: var(--jp-cell-editor-border-color);}\n",
       ".datatable .vellipsis {  background: var(--jp-layout-color0);  color: var(--jp-cell-editor-border-color);}\n",
       ".datatable .na {  color: var(--jp-cell-editor-border-color);  font-size: 80%;}\n",
       ".datatable .sp {  opacity: 0.25;}\n",
       ".datatable .footer { font-size: 9px; }\n",
       ".datatable .frame_dimensions {  background: var(--jp-border-color3);  border-top: 1px solid var(--jp-border-color0);  color: var(--jp-ui-font-color3);  display: inline-block;  opacity: 0.6;  padding: 1px 10px 1px 5px;}\n",
       "</style>\n"
      ],
      "text/plain": [
       "<IPython.core.display.HTML object>"
      ]
     },
     "metadata": {},
     "output_type": "display_data"
    },
    {
     "name": "stderr",
     "output_type": "stream",
     "text": [
      "/home/baldasseroniluisesteban/.venv/lib/python3.12/site-packages/tqdm/auto.py:21: TqdmWarning: IProgress not found. Please update jupyter and ipywidgets. See https://ipywidgets.readthedocs.io/en/stable/user_install.html\n",
      "  from .autonotebook import tqdm as notebook_tqdm\n"
     ]
    }
   ],
   "source": [
    "#1. Librerías.\n",
    "%run \"../librerias.ipynb\""
   ]
  },
  {
   "cell_type": "code",
   "execution_count": 3,
   "metadata": {},
   "outputs": [],
   "source": [
    "#2. Constantes.\n",
    "%run \"../constantes.ipynb\"\n",
    "\n",
    "mes_train = mes_train_all_menos_1\n",
    "mes_test = mes_test\n",
    "dataset_output = dataset_file_preprocesado_all_1"
   ]
  },
  {
   "cell_type": "code",
   "execution_count": 4,
   "metadata": {},
   "outputs": [],
   "source": [
    "#3. Funciones.\n",
    "%run \"../funciones.ipynb\""
   ]
  },
  {
   "cell_type": "code",
   "execution_count": 5,
   "metadata": {},
   "outputs": [],
   "source": [
    "#4. Lectura de datos.\n",
    "data = pd.read_csv(dataset_file_clase_ternaria)"
   ]
  },
  {
   "cell_type": "markdown",
   "metadata": {},
   "source": [
    "## B. Data Quality."
   ]
  },
  {
   "cell_type": "markdown",
   "metadata": {},
   "source": [
    "#### 1. Valores nulos."
   ]
  },
  {
   "cell_type": "code",
   "execution_count": 6,
   "metadata": {},
   "outputs": [
    {
     "data": {
      "text/html": [
       "<div>\n",
       "<style scoped>\n",
       "    .dataframe tbody tr th:only-of-type {\n",
       "        vertical-align: middle;\n",
       "    }\n",
       "\n",
       "    .dataframe tbody tr th {\n",
       "        vertical-align: top;\n",
       "    }\n",
       "\n",
       "    .dataframe thead th {\n",
       "        text-align: right;\n",
       "    }\n",
       "</style>\n",
       "<table border=\"1\" class=\"dataframe\">\n",
       "  <thead>\n",
       "    <tr style=\"text-align: right;\">\n",
       "      <th></th>\n",
       "      <th>Train Null Percentage</th>\n",
       "      <th>Score Null Percentage</th>\n",
       "      <th>diff</th>\n",
       "    </tr>\n",
       "  </thead>\n",
       "  <tbody>\n",
       "    <tr>\n",
       "      <th>clase_ternaria</th>\n",
       "      <td>0.000000</td>\n",
       "      <td>100.000000</td>\n",
       "      <td>100.000000</td>\n",
       "    </tr>\n",
       "    <tr>\n",
       "      <th>tmobile_app</th>\n",
       "      <td>14.860731</td>\n",
       "      <td>0.000000</td>\n",
       "      <td>14.860731</td>\n",
       "    </tr>\n",
       "    <tr>\n",
       "      <th>cmobile_app_trx</th>\n",
       "      <td>14.860731</td>\n",
       "      <td>0.000000</td>\n",
       "      <td>14.860731</td>\n",
       "    </tr>\n",
       "    <tr>\n",
       "      <th>Master_mconsumototal</th>\n",
       "      <td>60.340490</td>\n",
       "      <td>58.356403</td>\n",
       "      <td>1.984087</td>\n",
       "    </tr>\n",
       "    <tr>\n",
       "      <th>Master_cconsumos</th>\n",
       "      <td>60.340490</td>\n",
       "      <td>58.356403</td>\n",
       "      <td>1.984087</td>\n",
       "    </tr>\n",
       "    <tr>\n",
       "      <th>...</th>\n",
       "      <td>...</td>\n",
       "      <td>...</td>\n",
       "      <td>...</td>\n",
       "    </tr>\n",
       "    <tr>\n",
       "      <th>ctarjeta_visa_debitos_automaticos</th>\n",
       "      <td>0.000000</td>\n",
       "      <td>0.000000</td>\n",
       "      <td>0.000000</td>\n",
       "    </tr>\n",
       "    <tr>\n",
       "      <th>mttarjeta_visa_debitos_automaticos</th>\n",
       "      <td>0.000000</td>\n",
       "      <td>0.000000</td>\n",
       "      <td>0.000000</td>\n",
       "    </tr>\n",
       "    <tr>\n",
       "      <th>ctarjeta_master_debitos_automaticos</th>\n",
       "      <td>0.000000</td>\n",
       "      <td>0.000000</td>\n",
       "      <td>0.000000</td>\n",
       "    </tr>\n",
       "    <tr>\n",
       "      <th>mttarjeta_master_debitos_automaticos</th>\n",
       "      <td>0.000000</td>\n",
       "      <td>0.000000</td>\n",
       "      <td>0.000000</td>\n",
       "    </tr>\n",
       "    <tr>\n",
       "      <th>mpayroll</th>\n",
       "      <td>0.000000</td>\n",
       "      <td>0.000000</td>\n",
       "      <td>0.000000</td>\n",
       "    </tr>\n",
       "  </tbody>\n",
       "</table>\n",
       "<p>155 rows × 3 columns</p>\n",
       "</div>"
      ],
      "text/plain": [
       "                                      Train Null Percentage  \\\n",
       "clase_ternaria                                     0.000000   \n",
       "tmobile_app                                       14.860731   \n",
       "cmobile_app_trx                                   14.860731   \n",
       "Master_mconsumototal                              60.340490   \n",
       "Master_cconsumos                                  60.340490   \n",
       "...                                                     ...   \n",
       "ctarjeta_visa_debitos_automaticos                  0.000000   \n",
       "mttarjeta_visa_debitos_automaticos                 0.000000   \n",
       "ctarjeta_master_debitos_automaticos                0.000000   \n",
       "mttarjeta_master_debitos_automaticos               0.000000   \n",
       "mpayroll                                           0.000000   \n",
       "\n",
       "                                      Score Null Percentage        diff  \n",
       "clase_ternaria                                   100.000000  100.000000  \n",
       "tmobile_app                                        0.000000   14.860731  \n",
       "cmobile_app_trx                                    0.000000   14.860731  \n",
       "Master_mconsumototal                              58.356403    1.984087  \n",
       "Master_cconsumos                                  58.356403    1.984087  \n",
       "...                                                     ...         ...  \n",
       "ctarjeta_visa_debitos_automaticos                  0.000000    0.000000  \n",
       "mttarjeta_visa_debitos_automaticos                 0.000000    0.000000  \n",
       "ctarjeta_master_debitos_automaticos                0.000000    0.000000  \n",
       "mttarjeta_master_debitos_automaticos               0.000000    0.000000  \n",
       "mpayroll                                           0.000000    0.000000  \n",
       "\n",
       "[155 rows x 3 columns]"
      ]
     },
     "execution_count": 6,
     "metadata": {},
     "output_type": "execute_result"
    }
   ],
   "source": [
    "#a. Evaluamos.\n",
    "train_data = data[data['foto_mes'].isin(mes_train)]\n",
    "score_data = data[data['foto_mes'] == mes_test]\n",
    "\n",
    "train_null_percentage = train_data.isnull().mean() * 100\n",
    "score_null_percentage = score_data.isnull().mean() * 100\n",
    "\n",
    "comparison_df = pd.DataFrame({'Train Null Percentage': train_null_percentage, 'Score Null Percentage': score_null_percentage})\n",
    "comparison_df['diff'] = (comparison_df['Score Null Percentage'] - comparison_df['Train Null Percentage']).abs()\n",
    "\n",
    "comparison_df_sorted = comparison_df.sort_values('diff', ascending=False)\n",
    "\n",
    "comparison_df_sorted"
   ]
  },
  {
   "cell_type": "markdown",
   "metadata": {},
   "source": [
    "#### 2. Valores 0."
   ]
  },
  {
   "cell_type": "code",
   "execution_count": 7,
   "metadata": {},
   "outputs": [],
   "source": [
    "#a. Evaluamos.\n",
    "train_zero_percentage = (train_data == 0).mean() * 100\n",
    "score_zero_percentage = (score_data == 0).mean() * 100\n",
    "\n",
    "comparison_df_zero = pd.DataFrame({'Train Zero Percentage': train_zero_percentage, 'Score Zero Percentage': score_zero_percentage})\n",
    "\n",
    "comparison_df_zero['diff_zero_percentage'] = (comparison_df_zero['Score Zero Percentage'] - comparison_df_zero['Train Zero Percentage']).abs()\n",
    "diff_zero_percentage_sorted = comparison_df_zero.sort_values('diff_zero_percentage',ascending=False)"
   ]
  },
  {
   "cell_type": "code",
   "execution_count": 8,
   "metadata": {},
   "outputs": [
    {
     "name": "stderr",
     "output_type": "stream",
     "text": [
      "/tmp/ipykernel_32991/743180382.py:5: SettingWithCopyWarning: \n",
      "A value is trying to be set on a copy of a slice from a DataFrame\n",
      "\n",
      "See the caveats in the documentation: https://pandas.pydata.org/pandas-docs/stable/user_guide/indexing.html#returning-a-view-versus-a-copy\n",
      "  train_data.drop(cols_eliminar,axis=1,inplace=True)\n",
      "/tmp/ipykernel_32991/743180382.py:6: SettingWithCopyWarning: \n",
      "A value is trying to be set on a copy of a slice from a DataFrame\n",
      "\n",
      "See the caveats in the documentation: https://pandas.pydata.org/pandas-docs/stable/user_guide/indexing.html#returning-a-view-versus-a-copy\n",
      "  score_data.drop(cols_eliminar,axis=1,inplace=True)\n"
     ]
    }
   ],
   "source": [
    "#b. Decidimos eliminar aquellas columnas con un gran cambio en la cantidad de 0 en el mes test.\n",
    "cols_eliminar = list(diff_zero_percentage_sorted[(diff_zero_percentage_sorted[\"diff_zero_percentage\"] > 5)&(diff_zero_percentage_sorted[\"Score Zero Percentage\"]>diff_zero_percentage_sorted[\"Train Zero Percentage\"])].index)\n",
    "data.drop(cols_eliminar,axis=1,inplace=True)\n",
    "\n",
    "train_data.drop(cols_eliminar,axis=1,inplace=True)\n",
    "score_data.drop(cols_eliminar,axis=1,inplace=True)"
   ]
  },
  {
   "cell_type": "markdown",
   "metadata": {},
   "source": [
    "#### 3. Valores <0."
   ]
  },
  {
   "cell_type": "code",
   "execution_count": 9,
   "metadata": {},
   "outputs": [
    {
     "data": {
      "text/html": [
       "<div>\n",
       "<style scoped>\n",
       "    .dataframe tbody tr th:only-of-type {\n",
       "        vertical-align: middle;\n",
       "    }\n",
       "\n",
       "    .dataframe tbody tr th {\n",
       "        vertical-align: top;\n",
       "    }\n",
       "\n",
       "    .dataframe thead th {\n",
       "        text-align: right;\n",
       "    }\n",
       "</style>\n",
       "<table border=\"1\" class=\"dataframe\">\n",
       "  <thead>\n",
       "    <tr style=\"text-align: right;\">\n",
       "      <th></th>\n",
       "      <th>Train Negative Percentage</th>\n",
       "      <th>Score Negative Percentage</th>\n",
       "      <th>diff_negative_percentage</th>\n",
       "    </tr>\n",
       "  </thead>\n",
       "  <tbody>\n",
       "    <tr>\n",
       "      <th>Visa_fultimo_cierre</th>\n",
       "      <td>4.417596</td>\n",
       "      <td>0.000000</td>\n",
       "      <td>4.417596</td>\n",
       "    </tr>\n",
       "    <tr>\n",
       "      <th>Master_fultimo_cierre</th>\n",
       "      <td>4.291388</td>\n",
       "      <td>0.000000</td>\n",
       "      <td>4.291388</td>\n",
       "    </tr>\n",
       "    <tr>\n",
       "      <th>Master_Finiciomora</th>\n",
       "      <td>0.001028</td>\n",
       "      <td>0.000000</td>\n",
       "      <td>0.001028</td>\n",
       "    </tr>\n",
       "    <tr>\n",
       "      <th>mcuenta_corriente</th>\n",
       "      <td>0.001822</td>\n",
       "      <td>0.001209</td>\n",
       "      <td>0.000613</td>\n",
       "    </tr>\n",
       "    <tr>\n",
       "      <th>mactivos_margen</th>\n",
       "      <td>0.001752</td>\n",
       "      <td>0.001209</td>\n",
       "      <td>0.000543</td>\n",
       "    </tr>\n",
       "    <tr>\n",
       "      <th>...</th>\n",
       "      <td>...</td>\n",
       "      <td>...</td>\n",
       "      <td>...</td>\n",
       "    </tr>\n",
       "    <tr>\n",
       "      <th>mttarjeta_visa_debitos_automaticos</th>\n",
       "      <td>0.000000</td>\n",
       "      <td>0.000000</td>\n",
       "      <td>0.000000</td>\n",
       "    </tr>\n",
       "    <tr>\n",
       "      <th>ctarjeta_master_debitos_automaticos</th>\n",
       "      <td>0.000000</td>\n",
       "      <td>0.000000</td>\n",
       "      <td>0.000000</td>\n",
       "    </tr>\n",
       "    <tr>\n",
       "      <th>mttarjeta_master_debitos_automaticos</th>\n",
       "      <td>0.000000</td>\n",
       "      <td>0.000000</td>\n",
       "      <td>0.000000</td>\n",
       "    </tr>\n",
       "    <tr>\n",
       "      <th>cpagodeservicios</th>\n",
       "      <td>0.000000</td>\n",
       "      <td>0.000000</td>\n",
       "      <td>0.000000</td>\n",
       "    </tr>\n",
       "    <tr>\n",
       "      <th>mpayroll2</th>\n",
       "      <td>0.000000</td>\n",
       "      <td>0.000000</td>\n",
       "      <td>0.000000</td>\n",
       "    </tr>\n",
       "  </tbody>\n",
       "</table>\n",
       "<p>143 rows × 3 columns</p>\n",
       "</div>"
      ],
      "text/plain": [
       "                                      Train Negative Percentage  \\\n",
       "Visa_fultimo_cierre                                    4.417596   \n",
       "Master_fultimo_cierre                                  4.291388   \n",
       "Master_Finiciomora                                     0.001028   \n",
       "mcuenta_corriente                                      0.001822   \n",
       "mactivos_margen                                        0.001752   \n",
       "...                                                         ...   \n",
       "mttarjeta_visa_debitos_automaticos                     0.000000   \n",
       "ctarjeta_master_debitos_automaticos                    0.000000   \n",
       "mttarjeta_master_debitos_automaticos                   0.000000   \n",
       "cpagodeservicios                                       0.000000   \n",
       "mpayroll2                                              0.000000   \n",
       "\n",
       "                                      Score Negative Percentage  \\\n",
       "Visa_fultimo_cierre                                    0.000000   \n",
       "Master_fultimo_cierre                                  0.000000   \n",
       "Master_Finiciomora                                     0.000000   \n",
       "mcuenta_corriente                                      0.001209   \n",
       "mactivos_margen                                        0.001209   \n",
       "...                                                         ...   \n",
       "mttarjeta_visa_debitos_automaticos                     0.000000   \n",
       "ctarjeta_master_debitos_automaticos                    0.000000   \n",
       "mttarjeta_master_debitos_automaticos                   0.000000   \n",
       "cpagodeservicios                                       0.000000   \n",
       "mpayroll2                                              0.000000   \n",
       "\n",
       "                                      diff_negative_percentage  \n",
       "Visa_fultimo_cierre                                   4.417596  \n",
       "Master_fultimo_cierre                                 4.291388  \n",
       "Master_Finiciomora                                    0.001028  \n",
       "mcuenta_corriente                                     0.000613  \n",
       "mactivos_margen                                       0.000543  \n",
       "...                                                        ...  \n",
       "mttarjeta_visa_debitos_automaticos                    0.000000  \n",
       "ctarjeta_master_debitos_automaticos                   0.000000  \n",
       "mttarjeta_master_debitos_automaticos                  0.000000  \n",
       "cpagodeservicios                                      0.000000  \n",
       "mpayroll2                                             0.000000  \n",
       "\n",
       "[143 rows x 3 columns]"
      ]
     },
     "execution_count": 9,
     "metadata": {},
     "output_type": "execute_result"
    }
   ],
   "source": [
    "#a. Evaluamos.\n",
    "train_negative_percentage = (train_data == -1).mean() * 100\n",
    "score_negative_percentage = (score_data == -1).mean() * 100\n",
    "\n",
    "comparison_df_zero = pd.DataFrame({'Train Negative Percentage': train_negative_percentage, 'Score Negative Percentage': score_negative_percentage})\n",
    "\n",
    "comparison_df_zero['diff_negative_percentage'] = (comparison_df_zero['Score Negative Percentage'] - comparison_df_zero['Train Negative Percentage']).abs()\n",
    "diff_negative_percentage_sorted = comparison_df_zero.sort_values('diff_negative_percentage',ascending=False)\n",
    "\n",
    "diff_negative_percentage_sorted"
   ]
  },
  {
   "cell_type": "markdown",
   "metadata": {},
   "source": [
    "#### 4. Valores duplicados."
   ]
  },
  {
   "cell_type": "code",
   "execution_count": 10,
   "metadata": {},
   "outputs": [
    {
     "name": "stdout",
     "output_type": "stream",
     "text": [
      "Train tiene 0 valores duplicados\n",
      "Test tiene 0 valores duplicados\n"
     ]
    }
   ],
   "source": [
    "#a. Verifico.\n",
    "print(\"Train tiene {} valores duplicados\".format(train_data.duplicated().sum()))\n",
    "print(\"Test tiene {} valores duplicados\".format(score_data.duplicated().sum()))"
   ]
  },
  {
   "cell_type": "markdown",
   "metadata": {},
   "source": [
    "## C. Data Drifting."
   ]
  },
  {
   "cell_type": "code",
   "execution_count": 11,
   "metadata": {},
   "outputs": [
    {
     "name": "stderr",
     "output_type": "stream",
     "text": [
      "/tmp/ipykernel_32991/3157422034.py:7: RuntimeWarning: divide by zero encountered in log\n",
      "  result = (actual_prop - expected_prop) * np.log(actual_prop / expected_prop)\n",
      "/tmp/ipykernel_32991/3157422034.py:7: RuntimeWarning: divide by zero encountered in log\n",
      "  result = (actual_prop - expected_prop) * np.log(actual_prop / expected_prop)\n",
      "/tmp/ipykernel_32991/3157422034.py:7: RuntimeWarning: divide by zero encountered in log\n",
      "  result = (actual_prop - expected_prop) * np.log(actual_prop / expected_prop)\n",
      "/tmp/ipykernel_32991/3157422034.py:7: RuntimeWarning: divide by zero encountered in log\n",
      "  result = (actual_prop - expected_prop) * np.log(actual_prop / expected_prop)\n",
      "/tmp/ipykernel_32991/3157422034.py:7: RuntimeWarning: divide by zero encountered in log\n",
      "  result = (actual_prop - expected_prop) * np.log(actual_prop / expected_prop)\n",
      "/tmp/ipykernel_32991/3157422034.py:7: RuntimeWarning: divide by zero encountered in log\n",
      "  result = (actual_prop - expected_prop) * np.log(actual_prop / expected_prop)\n",
      "/tmp/ipykernel_32991/3157422034.py:7: RuntimeWarning: divide by zero encountered in log\n",
      "  result = (actual_prop - expected_prop) * np.log(actual_prop / expected_prop)\n",
      "/tmp/ipykernel_32991/3157422034.py:7: RuntimeWarning: divide by zero encountered in log\n",
      "  result = (actual_prop - expected_prop) * np.log(actual_prop / expected_prop)\n",
      "/tmp/ipykernel_32991/3157422034.py:7: RuntimeWarning: divide by zero encountered in log\n",
      "  result = (actual_prop - expected_prop) * np.log(actual_prop / expected_prop)\n"
     ]
    }
   ],
   "source": [
    "#1. Aplicamos PSI a casi todas las variables, excepto las de no interés.\n",
    "psi_results = []\n",
    "for column in train_data.columns:\n",
    "  if column not in ['foto_mes','numero_de_cliente','clase_ternaria']:\n",
    "    train_variable = train_data[column]\n",
    "    score_variable = score_data[column]\n",
    "    psi_value = psi(train_variable, score_variable)\n",
    "    psi_results.append({'feature': column, 'psi': psi_value})\n",
    "\n",
    "psi_df = pd.DataFrame(psi_results)\n",
    "psi_df = psi_df.sort_values('psi', ascending=False)"
   ]
  },
  {
   "cell_type": "code",
   "execution_count": 12,
   "metadata": {},
   "outputs": [
    {
     "data": {
      "text/plain": [
       "131            Visa_fultimo_cierre\n",
       "129            Visa_madelantopesos\n",
       "96                 cmobile_app_trx\n",
       "101             Master_Finiciomora\n",
       "30           mprestamos_prendarios\n",
       "48                       mpayroll2\n",
       "110          Master_fultimo_cierre\n",
       "61     mcajeros_propios_descuentos\n",
       "47                        mpayroll\n",
       "100            Master_Fvencimiento\n",
       "67       mcomisiones_mantenimiento\n",
       "123               Visa_Finiciomora\n",
       "5             mrentabilidad_annual\n",
       "6                      mcomisiones\n",
       "69               mcomisiones_otras\n",
       "4                    mrentabilidad\n",
       "22                   mautoservicio\n",
       "73       mtransferencias_recibidas\n",
       "7                  mactivos_margen\n",
       "139               Visa_mpagominimo\n",
       "133               Visa_mpagospesos\n",
       "8                  mpasivos_margen\n",
       "25           mtarjeta_visa_consumo\n",
       "125               Visa_msaldopesos\n",
       "75        mtransferencias_emitidas\n",
       "72       ctransferencias_recibidas\n",
       "124               Visa_msaldototal\n",
       "87      chomebanking_transacciones\n",
       "112             Master_mpagospesos\n",
       "74        ctransferencias_emitidas\n",
       "Name: feature, dtype: object"
      ]
     },
     "execution_count": 12,
     "metadata": {},
     "output_type": "execute_result"
    }
   ],
   "source": [
    "#2. Observamos variables con PSI >= 0.1 (casos a atender).\n",
    "psi_df[psi_df[\"psi\"] > 0.1][\"feature\"]"
   ]
  },
  {
   "cell_type": "markdown",
   "metadata": {},
   "source": [
    "## D. Ajustes por inflación."
   ]
  },
  {
   "cell_type": "code",
   "execution_count": 13,
   "metadata": {},
   "outputs": [],
   "source": [
    "#1. Defino los campos que voy a ajustar por inflación.\n",
    "campos_monetarios = [col for col in data.columns if col.startswith(('m', 'Visa_m', 'Master_m', 'vm_m'))]"
   ]
  },
  {
   "cell_type": "code",
   "execution_count": 14,
   "metadata": {},
   "outputs": [
    {
     "name": "stdout",
     "output_type": "stream",
     "text": [
      "inicio drift_deflacion()\n",
      "fin drift_deflacion()\n"
     ]
    }
   ],
   "source": [
    "#2. Le aplico la inflación a todas ellas.\n",
    "data = drift_deflacion(data, campos_monetarios, tb_indices)"
   ]
  },
  {
   "cell_type": "markdown",
   "metadata": {},
   "source": [
    "## E. Exportación."
   ]
  },
  {
   "cell_type": "code",
   "execution_count": null,
   "metadata": {},
   "outputs": [],
   "source": [
    "#1. Exportación propiamente dicha.\n",
    "data.to_csv(dataset_output,index=False)"
   ]
  },
  {
   "cell_type": "code",
   "execution_count": null,
   "metadata": {},
   "outputs": [],
   "source": []
  },
  {
   "cell_type": "code",
   "execution_count": null,
   "metadata": {},
   "outputs": [],
   "source": []
  },
  {
   "cell_type": "code",
   "execution_count": null,
   "metadata": {},
   "outputs": [],
   "source": []
  },
  {
   "cell_type": "code",
   "execution_count": null,
   "metadata": {},
   "outputs": [],
   "source": []
  },
  {
   "cell_type": "code",
   "execution_count": null,
   "metadata": {},
   "outputs": [],
   "source": []
  },
  {
   "cell_type": "code",
   "execution_count": null,
   "metadata": {},
   "outputs": [],
   "source": []
  },
  {
   "cell_type": "code",
   "execution_count": null,
   "metadata": {},
   "outputs": [],
   "source": []
  },
  {
   "cell_type": "code",
   "execution_count": null,
   "metadata": {},
   "outputs": [],
   "source": []
  },
  {
   "cell_type": "code",
   "execution_count": null,
   "metadata": {},
   "outputs": [],
   "source": []
  },
  {
   "cell_type": "code",
   "execution_count": null,
   "metadata": {},
   "outputs": [],
   "source": []
  },
  {
   "cell_type": "code",
   "execution_count": null,
   "metadata": {},
   "outputs": [],
   "source": []
  },
  {
   "cell_type": "code",
   "execution_count": null,
   "metadata": {},
   "outputs": [],
   "source": []
  },
  {
   "cell_type": "code",
   "execution_count": null,
   "metadata": {},
   "outputs": [],
   "source": []
  },
  {
   "cell_type": "code",
   "execution_count": null,
   "metadata": {},
   "outputs": [],
   "source": []
  },
  {
   "cell_type": "code",
   "execution_count": null,
   "metadata": {},
   "outputs": [],
   "source": []
  },
  {
   "cell_type": "code",
   "execution_count": null,
   "metadata": {},
   "outputs": [],
   "source": []
  },
  {
   "cell_type": "code",
   "execution_count": null,
   "metadata": {},
   "outputs": [],
   "source": []
  },
  {
   "cell_type": "code",
   "execution_count": null,
   "metadata": {},
   "outputs": [],
   "source": []
  },
  {
   "cell_type": "code",
   "execution_count": null,
   "metadata": {},
   "outputs": [],
   "source": []
  },
  {
   "cell_type": "code",
   "execution_count": null,
   "metadata": {},
   "outputs": [],
   "source": []
  },
  {
   "cell_type": "code",
   "execution_count": null,
   "metadata": {},
   "outputs": [],
   "source": []
  },
  {
   "cell_type": "code",
   "execution_count": null,
   "metadata": {},
   "outputs": [],
   "source": []
  },
  {
   "cell_type": "code",
   "execution_count": null,
   "metadata": {},
   "outputs": [],
   "source": []
  }
 ],
 "metadata": {
  "kernelspec": {
   "display_name": "Python 3 (ipykernel)",
   "language": "python",
   "name": "python3"
  },
  "language_info": {
   "codemirror_mode": {
    "name": "ipython",
    "version": 3
   },
   "file_extension": ".py",
   "mimetype": "text/x-python",
   "name": "python",
   "nbconvert_exporter": "python",
   "pygments_lexer": "ipython3",
   "version": "3.12.3"
  }
 },
 "nbformat": 4,
 "nbformat_minor": 4
}
