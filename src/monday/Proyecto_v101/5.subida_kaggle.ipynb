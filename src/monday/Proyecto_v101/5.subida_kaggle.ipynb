{
 "cells": [
  {
   "cell_type": "markdown",
   "metadata": {},
   "source": [
    "#### A. Configuración General."
   ]
  },
  {
   "cell_type": "code",
   "execution_count": 1,
   "metadata": {},
   "outputs": [
    {
     "name": "stderr",
     "output_type": "stream",
     "text": [
      "Matplotlib is building the font cache; this may take a moment.\n"
     ]
    },
    {
     "data": {
      "text/html": [
       "<style type='text/css'>\n",
       ".datatable table.frame { margin-bottom: 0; }\n",
       ".datatable table.frame thead { border-bottom: none; }\n",
       ".datatable table.frame tr.coltypes td {  color: #FFFFFF;  line-height: 6px;  padding: 0 0.5em;}\n",
       ".datatable .bool    { background: #DDDD99; }\n",
       ".datatable .object  { background: #565656; }\n",
       ".datatable .int     { background: #5D9E5D; }\n",
       ".datatable .float   { background: #4040CC; }\n",
       ".datatable .str     { background: #CC4040; }\n",
       ".datatable .time    { background: #40CC40; }\n",
       ".datatable .row_index {  background: var(--jp-border-color3);  border-right: 1px solid var(--jp-border-color0);  color: var(--jp-ui-font-color3);  font-size: 9px;}\n",
       ".datatable .frame tbody td { text-align: left; }\n",
       ".datatable .frame tr.coltypes .row_index {  background: var(--jp-border-color0);}\n",
       ".datatable th:nth-child(2) { padding-left: 12px; }\n",
       ".datatable .hellipsis {  color: var(--jp-cell-editor-border-color);}\n",
       ".datatable .vellipsis {  background: var(--jp-layout-color0);  color: var(--jp-cell-editor-border-color);}\n",
       ".datatable .na {  color: var(--jp-cell-editor-border-color);  font-size: 80%;}\n",
       ".datatable .sp {  opacity: 0.25;}\n",
       ".datatable .footer { font-size: 9px; }\n",
       ".datatable .frame_dimensions {  background: var(--jp-border-color3);  border-top: 1px solid var(--jp-border-color0);  color: var(--jp-ui-font-color3);  display: inline-block;  opacity: 0.6;  padding: 1px 10px 1px 5px;}\n",
       "</style>\n"
      ],
      "text/plain": [
       "<IPython.core.display.HTML object>"
      ]
     },
     "metadata": {},
     "output_type": "display_data"
    },
    {
     "name": "stderr",
     "output_type": "stream",
     "text": [
      "/home/baldasseroniluisesteban/.venv/lib/python3.12/site-packages/dask/dataframe/__init__.py:42: FutureWarning: \n",
      "Dask dataframe query planning is disabled because dask-expr is not installed.\n",
      "\n",
      "You can install it with `pip install dask[dataframe]` or `conda install dask`.\n",
      "This will raise in a future version.\n",
      "\n",
      "  warnings.warn(msg, FutureWarning)\n",
      "/home/baldasseroniluisesteban/.venv/lib/python3.12/site-packages/tqdm/auto.py:21: TqdmWarning: IProgress not found. Please update jupyter and ipywidgets. See https://ipywidgets.readthedocs.io/en/stable/user_install.html\n",
      "  from .autonotebook import tqdm as notebook_tqdm\n"
     ]
    }
   ],
   "source": [
    "#1. Librerías.\n",
    "%run \"../librerias.ipynb\""
   ]
  },
  {
   "cell_type": "code",
   "execution_count": 2,
   "metadata": {},
   "outputs": [],
   "source": [
    "#2. Constantes.\n",
    "#a. Constantes generales.\n",
    "%run \"../constantes.ipynb\"\n",
    "\n",
    "#b. Constantes a definir por el usuari.\n",
    "#i. Dataset de lectura (post-feature engineering).\n",
    "dataset_con_fe = dataset_file_fe_all_1\n",
    "#ii. Información sobre rango temporal del modelo.\n",
    "cantidad_meses_train = \"all\"\n",
    "ventana = 1\n",
    "#iii. Meses de train y test.\n",
    "mes_train = mes_train_all\n",
    "mes_test = mes_test\n",
    "#iv. Ruta del modelo guardado post-optimización de hiperparámetros.\n",
    "modelo =  \"{}\".format(modelos_path) + 'lgbm_{}_{}_undersampling.txt'.format(cantidad_meses_train,ventana)\n",
    "#v. Ruta de la BBDD donde se almacenan los hiperparámetros óptimos post-Optuna.\n",
    "storage_name = \"sqlite:///\" + db_path + \"optimization_lgbm.db\"\n",
    "study_name = f\"exp_lgbm_{cantidad_meses_train}_{ventana}_undersampling\""
   ]
  },
  {
   "cell_type": "code",
   "execution_count": 3,
   "metadata": {},
   "outputs": [],
   "source": [
    "#3. Lectura de datos.\n",
    "data = pd.read_parquet(dataset_con_fe)"
   ]
  },
  {
   "cell_type": "code",
   "execution_count": 4,
   "metadata": {},
   "outputs": [],
   "source": [
    "#4. Importo el modelo.\n",
    "model_lgb = lgb.Booster(model_file=modelo)"
   ]
  },
  {
   "cell_type": "code",
   "execution_count": 5,
   "metadata": {},
   "outputs": [
    {
     "name": "stderr",
     "output_type": "stream",
     "text": [
      "[I 2024-11-28 12:39:51,927] Using an existing study with name 'exp_lgbm_all_1_undersampling' instead of creating a new one.\n"
     ]
    }
   ],
   "source": [
    "#5. Importo el estudio de Optuna.\n",
    "#g. Recogemos los parámetros probados con Optuna.\n",
    "\n",
    "#ii. Creo el estudio.\n",
    "study = optuna.create_study(\n",
    "    direction=\"maximize\",\n",
    "    study_name=study_name,\n",
    "    storage=storage_name,\n",
    "    load_if_exists=True,\n",
    ")"
   ]
  },
  {
   "cell_type": "markdown",
   "metadata": {},
   "source": [
    "#### B. Pre-procesamiento."
   ]
  },
  {
   "cell_type": "code",
   "execution_count": 6,
   "metadata": {},
   "outputs": [],
   "source": [
    "#1. Pequeño pre-procesamiento sobre los datos.\n",
    "#i. Cambio tipos de datos (Me lo toma como tipo de dato \"object\"...)\n",
    "data['ctrx_quarter_normalizado'] = data['ctrx_quarter_normalizado'].astype(float)\n",
    "#ii. Elimino columnas de último momento por Data Concept.\n",
    "columnas_de_interes_prestamos = data.filter(like='prestamos_personales').columns\n",
    "data.drop(columnas_de_interes_prestamos,axis=1,inplace=True)\n",
    "#iii. Pesos y reclusterización.\n",
    "data['clase_peso'] = 1.0\n",
    "\n",
    "data.loc[data['clase_ternaria'] == 'BAJA+2', 'clase_peso'] = 1.00002\n",
    "data.loc[data['clase_ternaria'] == 'BAJA+1', 'clase_peso'] = 1.00001\n",
    "\n",
    "data['clase_binaria2'] = 0\n",
    "data['clase_binaria2'] = np.where(data['clase_ternaria'] == 'CONTINUA', 0, 1)"
   ]
  },
  {
   "cell_type": "code",
   "execution_count": 7,
   "metadata": {},
   "outputs": [],
   "source": [
    "#2. Dividimos entre conjuntos de datos.\n",
    "#a. Datos para entrenar todo el modelo final para Kaggle.\n",
    "train_data = data[data['foto_mes'].isin(mes_train)]\n",
    "test_data = data[data['foto_mes'] == mes_test]\n",
    "\n",
    "X_train = train_data.drop(['clase_ternaria', 'clase_peso','clase_binaria2'], axis=1)\n",
    "y_train_binaria2 = train_data['clase_binaria2']\n",
    "w_train = train_data['clase_peso']\n",
    "\n",
    "#b. Datos de Test (a predecir).\n",
    "X_test = test_data.drop(['clase_ternaria', 'clase_peso','clase_binaria2'], axis=1)"
   ]
  },
  {
   "cell_type": "code",
   "execution_count": 17,
   "metadata": {},
   "outputs": [
    {
     "data": {
      "text/plain": [
       "array([201902, 201903, 201904, 201905, 201906, 201907, 201908, 201909,\n",
       "       201910, 201911, 201912, 202001, 202002, 202003, 202004, 202005,\n",
       "       202006, 202007, 202008, 202009, 202010, 202011, 202012, 202101,\n",
       "       202102, 202103, 202104, 202105, 202106, 202107, 202108, 201901])"
      ]
     },
     "execution_count": 17,
     "metadata": {},
     "output_type": "execute_result"
    }
   ],
   "source": [
    "df = pd.read_csv(datasets_path + 'competencia_03_clase_ternaria.csv')\n",
    "df['foto_mes'].unique()"
   ]
  },
  {
   "cell_type": "markdown",
   "metadata": {},
   "source": [
    "#### C. Envíos para encontrar el punto de corte óptimo con 10 semillas."
   ]
  },
  {
   "cell_type": "code",
   "execution_count": 8,
   "metadata": {},
   "outputs": [],
   "source": [
    "#1. Configuramos la cantidad de veces que vamos a subir cada curva de intentos (semillas).\n",
    "cantidad_semillas = 10\n",
    "semillas = [np.random.randint(0, 10000) for _ in range(cantidad_semillas)]"
   ]
  },
  {
   "cell_type": "code",
   "execution_count": 10,
   "metadata": {},
   "outputs": [
    {
     "name": "stdout",
     "output_type": "stream",
     "text": [
      "\n",
      "---------------------------------------\n",
      "Semilla: 7763.\n",
      "--> Mejores parámetros...\n",
      "--> Comienza el entrenamiento...\n"
     ]
    },
    {
     "ename": "ValueError",
     "evalue": "Input data must be 2 dimensional and non empty.",
     "output_type": "error",
     "traceback": [
      "\u001b[0;31m---------------------------------------------------------------------------\u001b[0m",
      "\u001b[0;31mValueError\u001b[0m                                Traceback (most recent call last)",
      "Cell \u001b[0;32mIn[10], line 39\u001b[0m\n\u001b[1;32m     34\u001b[0m model_lgb \u001b[38;5;241m=\u001b[39m lgb\u001b[38;5;241m.\u001b[39mtrain(params,\n\u001b[1;32m     35\u001b[0m                 train_data,\n\u001b[1;32m     36\u001b[0m                 num_boost_round\u001b[38;5;241m=\u001b[39mbest_iter)\n\u001b[1;32m     38\u001b[0m \u001b[38;5;66;03m#vi. Predecimos Agosto.\u001b[39;00m\n\u001b[0;32m---> 39\u001b[0m predicciones \u001b[38;5;241m=\u001b[39m \u001b[43mmodel_lgb\u001b[49m\u001b[38;5;241;43m.\u001b[39;49m\u001b[43mpredict\u001b[49m\u001b[43m(\u001b[49m\u001b[43mX_test\u001b[49m\u001b[43m)\u001b[49m\n\u001b[1;32m     40\u001b[0m \u001b[38;5;66;03m#vii. Le pegamos la probabilidad de ser \"BAJA\" a cada cliente.\u001b[39;00m\n\u001b[1;32m     41\u001b[0m X_test[\u001b[38;5;124m'\u001b[39m\u001b[38;5;124mProbabilidad\u001b[39m\u001b[38;5;124m'\u001b[39m] \u001b[38;5;241m=\u001b[39m predicciones\n",
      "File \u001b[0;32m~/.venv/lib/python3.12/site-packages/lightgbm/basic.py:4748\u001b[0m, in \u001b[0;36mBooster.predict\u001b[0;34m(self, data, start_iteration, num_iteration, raw_score, pred_leaf, pred_contrib, data_has_header, validate_features, **kwargs)\u001b[0m\n\u001b[1;32m   4746\u001b[0m     \u001b[38;5;28;01melse\u001b[39;00m:\n\u001b[1;32m   4747\u001b[0m         num_iteration \u001b[38;5;241m=\u001b[39m \u001b[38;5;241m-\u001b[39m\u001b[38;5;241m1\u001b[39m\n\u001b[0;32m-> 4748\u001b[0m \u001b[38;5;28;01mreturn\u001b[39;00m \u001b[43mpredictor\u001b[49m\u001b[38;5;241;43m.\u001b[39;49m\u001b[43mpredict\u001b[49m\u001b[43m(\u001b[49m\n\u001b[1;32m   4749\u001b[0m \u001b[43m    \u001b[49m\u001b[43mdata\u001b[49m\u001b[38;5;241;43m=\u001b[39;49m\u001b[43mdata\u001b[49m\u001b[43m,\u001b[49m\n\u001b[1;32m   4750\u001b[0m \u001b[43m    \u001b[49m\u001b[43mstart_iteration\u001b[49m\u001b[38;5;241;43m=\u001b[39;49m\u001b[43mstart_iteration\u001b[49m\u001b[43m,\u001b[49m\n\u001b[1;32m   4751\u001b[0m \u001b[43m    \u001b[49m\u001b[43mnum_iteration\u001b[49m\u001b[38;5;241;43m=\u001b[39;49m\u001b[43mnum_iteration\u001b[49m\u001b[43m,\u001b[49m\n\u001b[1;32m   4752\u001b[0m \u001b[43m    \u001b[49m\u001b[43mraw_score\u001b[49m\u001b[38;5;241;43m=\u001b[39;49m\u001b[43mraw_score\u001b[49m\u001b[43m,\u001b[49m\n\u001b[1;32m   4753\u001b[0m \u001b[43m    \u001b[49m\u001b[43mpred_leaf\u001b[49m\u001b[38;5;241;43m=\u001b[39;49m\u001b[43mpred_leaf\u001b[49m\u001b[43m,\u001b[49m\n\u001b[1;32m   4754\u001b[0m \u001b[43m    \u001b[49m\u001b[43mpred_contrib\u001b[49m\u001b[38;5;241;43m=\u001b[39;49m\u001b[43mpred_contrib\u001b[49m\u001b[43m,\u001b[49m\n\u001b[1;32m   4755\u001b[0m \u001b[43m    \u001b[49m\u001b[43mdata_has_header\u001b[49m\u001b[38;5;241;43m=\u001b[39;49m\u001b[43mdata_has_header\u001b[49m\u001b[43m,\u001b[49m\n\u001b[1;32m   4756\u001b[0m \u001b[43m    \u001b[49m\u001b[43mvalidate_features\u001b[49m\u001b[38;5;241;43m=\u001b[39;49m\u001b[43mvalidate_features\u001b[49m\u001b[43m,\u001b[49m\n\u001b[1;32m   4757\u001b[0m \u001b[43m\u001b[49m\u001b[43m)\u001b[49m\n",
      "File \u001b[0;32m~/.venv/lib/python3.12/site-packages/lightgbm/basic.py:1139\u001b[0m, in \u001b[0;36m_InnerPredictor.predict\u001b[0;34m(self, data, start_iteration, num_iteration, raw_score, pred_leaf, pred_contrib, data_has_header, validate_features)\u001b[0m\n\u001b[1;32m   1130\u001b[0m     _safe_call(\n\u001b[1;32m   1131\u001b[0m         _LIB\u001b[38;5;241m.\u001b[39mLGBM_BoosterValidateFeatureNames(\n\u001b[1;32m   1132\u001b[0m             \u001b[38;5;28mself\u001b[39m\u001b[38;5;241m.\u001b[39m_handle,\n\u001b[0;32m   (...)\u001b[0m\n\u001b[1;32m   1135\u001b[0m         )\n\u001b[1;32m   1136\u001b[0m     )\n\u001b[1;32m   1138\u001b[0m \u001b[38;5;28;01mif\u001b[39;00m \u001b[38;5;28misinstance\u001b[39m(data, pd_DataFrame):\n\u001b[0;32m-> 1139\u001b[0m     data \u001b[38;5;241m=\u001b[39m \u001b[43m_data_from_pandas\u001b[49m\u001b[43m(\u001b[49m\n\u001b[1;32m   1140\u001b[0m \u001b[43m        \u001b[49m\u001b[43mdata\u001b[49m\u001b[38;5;241;43m=\u001b[39;49m\u001b[43mdata\u001b[49m\u001b[43m,\u001b[49m\n\u001b[1;32m   1141\u001b[0m \u001b[43m        \u001b[49m\u001b[43mfeature_name\u001b[49m\u001b[38;5;241;43m=\u001b[39;49m\u001b[38;5;124;43m\"\u001b[39;49m\u001b[38;5;124;43mauto\u001b[39;49m\u001b[38;5;124;43m\"\u001b[39;49m\u001b[43m,\u001b[49m\n\u001b[1;32m   1142\u001b[0m \u001b[43m        \u001b[49m\u001b[43mcategorical_feature\u001b[49m\u001b[38;5;241;43m=\u001b[39;49m\u001b[38;5;124;43m\"\u001b[39;49m\u001b[38;5;124;43mauto\u001b[39;49m\u001b[38;5;124;43m\"\u001b[39;49m\u001b[43m,\u001b[49m\n\u001b[1;32m   1143\u001b[0m \u001b[43m        \u001b[49m\u001b[43mpandas_categorical\u001b[49m\u001b[38;5;241;43m=\u001b[39;49m\u001b[38;5;28;43mself\u001b[39;49m\u001b[38;5;241;43m.\u001b[39;49m\u001b[43mpandas_categorical\u001b[49m\u001b[43m,\u001b[49m\n\u001b[1;32m   1144\u001b[0m \u001b[43m    \u001b[49m\u001b[43m)\u001b[49m[\u001b[38;5;241m0\u001b[39m]\n\u001b[1;32m   1146\u001b[0m predict_type \u001b[38;5;241m=\u001b[39m _C_API_PREDICT_NORMAL\n\u001b[1;32m   1147\u001b[0m \u001b[38;5;28;01mif\u001b[39;00m raw_score:\n",
      "File \u001b[0;32m~/.venv/lib/python3.12/site-packages/lightgbm/basic.py:814\u001b[0m, in \u001b[0;36m_data_from_pandas\u001b[0;34m(data, feature_name, categorical_feature, pandas_categorical)\u001b[0m\n\u001b[1;32m    807\u001b[0m \u001b[38;5;28;01mdef\u001b[39;00m \u001b[38;5;21m_data_from_pandas\u001b[39m(\n\u001b[1;32m    808\u001b[0m     data: pd_DataFrame,\n\u001b[1;32m    809\u001b[0m     feature_name: _LGBM_FeatureNameConfiguration,\n\u001b[1;32m    810\u001b[0m     categorical_feature: _LGBM_CategoricalFeatureConfiguration,\n\u001b[1;32m    811\u001b[0m     pandas_categorical: Optional[List[List]],\n\u001b[1;32m    812\u001b[0m ) \u001b[38;5;241m-\u001b[39m\u001b[38;5;241m>\u001b[39m Tuple[np\u001b[38;5;241m.\u001b[39mndarray, List[\u001b[38;5;28mstr\u001b[39m], Union[List[\u001b[38;5;28mstr\u001b[39m], List[\u001b[38;5;28mint\u001b[39m]], List[List]]:\n\u001b[1;32m    813\u001b[0m     \u001b[38;5;28;01mif\u001b[39;00m \u001b[38;5;28mlen\u001b[39m(data\u001b[38;5;241m.\u001b[39mshape) \u001b[38;5;241m!=\u001b[39m \u001b[38;5;241m2\u001b[39m \u001b[38;5;129;01mor\u001b[39;00m data\u001b[38;5;241m.\u001b[39mshape[\u001b[38;5;241m0\u001b[39m] \u001b[38;5;241m<\u001b[39m \u001b[38;5;241m1\u001b[39m:\n\u001b[0;32m--> 814\u001b[0m         \u001b[38;5;28;01mraise\u001b[39;00m \u001b[38;5;167;01mValueError\u001b[39;00m(\u001b[38;5;124m\"\u001b[39m\u001b[38;5;124mInput data must be 2 dimensional and non empty.\u001b[39m\u001b[38;5;124m\"\u001b[39m)\n\u001b[1;32m    816\u001b[0m     \u001b[38;5;66;03m# take shallow copy in case we modify categorical columns\u001b[39;00m\n\u001b[1;32m    817\u001b[0m     \u001b[38;5;66;03m# whole column modifications don't change the original df\u001b[39;00m\n\u001b[1;32m    818\u001b[0m     data \u001b[38;5;241m=\u001b[39m data\u001b[38;5;241m.\u001b[39mcopy(deep\u001b[38;5;241m=\u001b[39m\u001b[38;5;28;01mFalse\u001b[39;00m)\n",
      "\u001b[0;31mValueError\u001b[0m: Input data must be 2 dimensional and non empty."
     ]
    }
   ],
   "source": [
    "#2. Entrenamos y predecimos Agosto.\n",
    "#i. Recorremos diferentes semillas para entrenar.\n",
    "i= 0\n",
    "for semilla in semillas:\n",
    "    print(\"\\n---------------------------------------\")\n",
    "    print(\"Semilla: {}.\".format(semilla))\n",
    "    #ii. Activamos la API para realizar envíos a Kaggle.\n",
    "    api = KaggleApi()\n",
    "    api.authenticate()\n",
    "    #iii. Tomamos el mejor modelo y con eso entrenamos.\n",
    "    print(\"--> Mejores parámetros...\")\n",
    "    best_iter = study.best_trial.user_attrs[\"best_iter\"]\n",
    "    params = {\n",
    "        'objective': 'binary',\n",
    "        'boosting_type': 'gbdt',\n",
    "        'first_metric_only': True,\n",
    "        'boost_from_average': True,\n",
    "        'feature_pre_filter': False,\n",
    "        'max_bin': 31,\n",
    "        'num_leaves': study.best_trial.params['num_leaves'],\n",
    "        'learning_rate': study.best_trial.params['learning_rate'],\n",
    "        'min_data_in_leaf': study.best_trial.params['min_data_in_leaf'],\n",
    "        'feature_fraction': study.best_trial.params['feature_fraction'],\n",
    "        'bagging_fraction': study.best_trial.params['bagging_fraction'],\n",
    "        'seed': semilla,\n",
    "        'verbose': 0\n",
    "    }\n",
    "    #iv. Adaptamos el dataset de entrenamiento.\n",
    "    train_data = lgb.Dataset(X_train,\n",
    "                            label=y_train_binaria2,\n",
    "                            weight=w_train)\n",
    "    #v. Entrenamos el modelo de Light GBM con los mejores hiperparámetros y la semilla aleatoria.\n",
    "    print(\"--> Comienza el entrenamiento...\")\n",
    "    model_lgb = lgb.train(params,\n",
    "                    train_data,\n",
    "                    num_boost_round=best_iter)\n",
    "    \n",
    "    #vi. Predecimos Agosto.\n",
    "    predicciones = model_lgb.predict(X_test)\n",
    "    #vii. Le pegamos la probabilidad de ser \"BAJA\" a cada cliente.\n",
    "    X_test['Probabilidad'] = predicciones\n",
    "    #viii. Ordenamos a los clientes por probabilidad de ser \"BAJA\" de forma descendente.\n",
    "    tb_entrega = X_test.sort_values(by='Probabilidad', ascending=False)\n",
    "    #ix. Genero una lista de distintos cortes candidatos, para enviar a Kaggle.\n",
    "    cortes = range(8500,13500,500)\n",
    "    #x. Generamos las distintas predicciones de clases a partir de los distintos cortes posibles.\n",
    "    num_subida_kaggle = 1\n",
    "    print(\"--> Comienzan los envíos a Kaggle...\\n\")\n",
    "    for _, envios in enumerate(cortes):\n",
    "        #1. Le ponemos clase 1 (\"BAJA\") a los primeros \"envios\" con mayor probabilidad.\n",
    "        tb_entrega['Predicted'] = 0\n",
    "        tb_entrega.iloc[:envios, tb_entrega.columns.get_loc('Predicted')] = 1\n",
    "        resultados = tb_entrega[[\"numero_de_cliente\", 'Predicted']].reset_index(drop=True)\n",
    "        \n",
    "        print(\"Cantidad de clientes {}\".format(envios))\n",
    "        #2. Guardamos el archivo para Kaggle.\n",
    "        nombre_archivo = f\"Kaggle_{_}.csv\" #DF con -X meses, Y ventana, número de intento, número de semilla.\n",
    "        ruta_archivo= \"{}/{}\".format(exp_path,nombre_archivo)\n",
    "        resultados.to_csv(ruta_archivo, index=False)\n",
    "        \n",
    "        num_subida_kaggle += 1\n",
    "        i += 1\n",
    "        \n",
    "        #3. Envío a Kaggle.\n",
    "        #a. Defino los parámetros claves.\n",
    "        mensaje = f'Archivo {nombre_archivo}.Train {cantidad_meses_train} c/undersampling. Semilla:{semilla},corte:{envios}' # Datos de Train, si está con Data Drifting o no, semilla y punto de corte de prueba.\n",
    "        competencia = 'dm-ey-f-2024-tercera'\n",
    "        #c. Subo la Submission.\n",
    "        while i<=18:\n",
    "                api.competition_submit(file_name=ruta_archivo, message=mensaje, competition=competencia)\n",
    "                print(\"Submission successful!\")\n",
    "                break\n",
    "        else:\n",
    "            print(\"Esperamos 30 segundos...\")\n",
    "            time.sleep(30)\n",
    "            api.competition_submit(file_name=ruta_archivo, message=mensaje, competition=competencia)\n",
    "            print(\"Submission successful!\")\n",
    "            i= 0\n",
    "        \n",
    "    #d. Borramos la columna de predicciones anterior.\n",
    "    X_test.drop([\"Probabilidad\"],axis=1,inplace=True)"
   ]
  },
  {
   "cell_type": "code",
   "execution_count": null,
   "metadata": {},
   "outputs": [],
   "source": [
    "#3. Análisis de las subidas a Kaggle.\n",
    "#i. Eligiendo el mejor punto de corte.\n",
    "# Dados las 10 semillas corridas, y los 10 diferentes puntos de corte, el promedio nos indica que el punto de corte\n",
    "# más óptimo para este modelo es X envíos. En tanto la distribución promedio del Público se asemeja a la\n",
    "# distribución promedio del Privado, dicho punto de corte sería el mejor para la distribución promedio del Privado."
   ]
  },
  {
   "cell_type": "code",
   "execution_count": null,
   "metadata": {},
   "outputs": [],
   "source": []
  },
  {
   "cell_type": "markdown",
   "metadata": {},
   "source": [
    "#### D. Envios a Kaggle para elegir luego el valor Promedio del punto de corte óptimo (estabilizar el modelo)."
   ]
  },
  {
   "cell_type": "code",
   "execution_count": null,
   "metadata": {},
   "outputs": [],
   "source": [
    "#1. Configuramos la cantidad de veces que vamos a subir cada curva de intentos (semillas).\n",
    "cantidad_semillas = 40\n",
    "semillas = [np.random.randint(0, 10000) for _ in range(cantidad_semillas)]"
   ]
  },
  {
   "cell_type": "code",
   "execution_count": null,
   "metadata": {},
   "outputs": [],
   "source": [
    "#2. Entrenamos y predecimos Agosto.\n",
    "#i. Recorremos diferentes semillas para entrenar.\n",
    "i= 0\n",
    "for semilla in semillas:\n",
    "    print(\"\\n---------------------------------------\")\n",
    "    print(\"Semilla: {}.\".format(semilla))\n",
    "    #ii. Activamos la API para realizar envíos a Kaggle.\n",
    "    api = KaggleApi()\n",
    "    api.authenticate()\n",
    "    #iii. Tomamos el mejor modelo y con eso entrenamos.\n",
    "    print(\"--> Mejores parámetros...\")\n",
    "    best_iter = study.best_trial.user_attrs[\"best_iter\"]\n",
    "    params = {\n",
    "        'objective': 'binary',\n",
    "        'boosting_type': 'gbdt',\n",
    "        'first_metric_only': True,\n",
    "        'boost_from_average': True,\n",
    "        'feature_pre_filter': False,\n",
    "        'max_bin': 31,\n",
    "        'num_leaves': study.best_trial.params['num_leaves'],\n",
    "        'learning_rate': study.best_trial.params['learning_rate'],\n",
    "        'min_data_in_leaf': study.best_trial.params['min_data_in_leaf'],\n",
    "        'feature_fraction': study.best_trial.params['feature_fraction'],\n",
    "        'bagging_fraction': study.best_trial.params['bagging_fraction'],\n",
    "        'seed': semilla,\n",
    "        'verbose': 0\n",
    "    }\n",
    "    #iv. Adaptamos el dataset de entrenamiento.\n",
    "    train_data = lgb.Dataset(X_train,\n",
    "                            label=y_train_binaria2,\n",
    "                            weight=w_train)\n",
    "    #v. Entrenamos el modelo de Light GBM con los mejores hiperparámetros y la semilla aleatoria.\n",
    "    print(\"--> Comienza el entrenamiento...\")\n",
    "    model_lgb = lgb.train(params,\n",
    "                    train_data,\n",
    "                    num_boost_round=best_iter)\n",
    "    \n",
    "    #vi. Predecimos Agosto.\n",
    "    predicciones = model_lgb.predict(X_test)\n",
    "    #vii. Le pegamos la probabilidad de ser \"BAJA\" a cada cliente.\n",
    "    X_test['Probabilidad'] = predicciones\n",
    "    #viii. Ordenamos a los clientes por probabilidad de ser \"BAJA\" de forma descendente.\n",
    "    tb_entrega = X_test.sort_values(by='Probabilidad', ascending=False)\n",
    "    #ix. Genero una lista de distintos cortes candidatos, para enviar a Kaggle.\n",
    "    cortes = range(8500,13500,500)\n",
    "    #x. Generamos las distintas predicciones de clases a partir de los distintos cortes posibles.\n",
    "    num_subida_kaggle = 1\n",
    "    print(\"--> Comienzan los envíos a Kaggle...\\n\")\n",
    "    for _,envios in enumerate(cortes):\n",
    "        #1. Le ponemos clase 1 (\"BAJA\") a los primeros \"envios\" con mayor probabilidad.\n",
    "        tb_entrega['Predicted'] = 0\n",
    "        tb_entrega.iloc[:envios, tb_entrega.columns.get_loc('Predicted')] = 1\n",
    "        resultados = tb_entrega[[\"numero_de_cliente\", 'Predicted']].reset_index(drop=True)\n",
    "        \n",
    "        print(\"Cantidad de clientes {}\".format(envios))\n",
    "        #2. Guardamos el archivo para Kaggle.\n",
    "        nombre_archivo = f\"Kaggle_{_}.csv\"\n",
    "        ruta_archivo= \"{}/{}\".format(exp_path,nombre_archivo)\n",
    "        resultados.to_csv(ruta_archivo, index=False)\n",
    "        \n",
    "        num_subida_kaggle += 1\n",
    "        i += 1\n",
    "        \n",
    "        #3. Envío a Kaggle.\n",
    "        #a. Defino los parámetros claves.\n",
    "        mensaje = f'Archivo {nombre_archivo}.Train {cantidad_meses_train} c/undersampling. Semilla:{semilla},corte:{envios}' # Datos de Train, si está con Data Drifting o no, semilla y punto de corte de prueba.\n",
    "        competencia = 'dm-ey-f-2024-segunda'\n",
    "        #c. Subo la Submission.\n",
    "        while i<=18:\n",
    "                api.competition_submit(file_name=ruta_archivo, message=mensaje, competition=competencia)\n",
    "                print(\"Submission successful!\")\n",
    "                break\n",
    "        else:\n",
    "            print(\"Esperamos 30 segundos...\")\n",
    "            time.sleep(30)\n",
    "            api.competition_submit(file_name=ruta_archivo, message=mensaje, competition=competencia)\n",
    "            print(\"Submission successful!\")\n",
    "            i= 0\n",
    "        \n",
    "    #d. Borramos la columna de predicciones anterior.\n",
    "    X_test.drop([\"Probabilidad\"],axis=1,inplace=True)"
   ]
  },
  {
   "cell_type": "code",
   "execution_count": null,
   "metadata": {},
   "outputs": [],
   "source": []
  },
  {
   "cell_type": "code",
   "execution_count": null,
   "metadata": {},
   "outputs": [],
   "source": []
  },
  {
   "cell_type": "code",
   "execution_count": null,
   "metadata": {},
   "outputs": [],
   "source": []
  },
  {
   "cell_type": "code",
   "execution_count": null,
   "metadata": {},
   "outputs": [],
   "source": []
  },
  {
   "cell_type": "code",
   "execution_count": null,
   "metadata": {},
   "outputs": [],
   "source": []
  }
 ],
 "metadata": {
  "kernelspec": {
   "display_name": "Python 3 (ipykernel)",
   "language": "python",
   "name": "python3"
  },
  "language_info": {
   "codemirror_mode": {
    "name": "ipython",
    "version": 3
   },
   "file_extension": ".py",
   "mimetype": "text/x-python",
   "name": "python",
   "nbconvert_exporter": "python",
   "pygments_lexer": "ipython3",
   "version": "3.12.3"
  }
 },
 "nbformat": 4,
 "nbformat_minor": 4
}
