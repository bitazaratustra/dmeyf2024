{
 "cells": [
  {
   "cell_type": "code",
   "execution_count": 1,
   "id": "1940741b-ec35-447d-8f11-7575b680eba2",
   "metadata": {},
   "outputs": [
    {
     "name": "stdout",
     "output_type": "stream",
     "text": [
      "Collecting optuna==3.6.1\n",
      "  Downloading optuna-3.6.1-py3-none-any.whl.metadata (17 kB)\n",
      "Requirement already satisfied: alembic>=1.5.0 in /home/baldasseroniluisesteban/.venv/lib/python3.12/site-packages (from optuna==3.6.1) (1.13.3)\n",
      "Requirement already satisfied: colorlog in /home/baldasseroniluisesteban/.venv/lib/python3.12/site-packages (from optuna==3.6.1) (6.8.2)\n",
      "Requirement already satisfied: numpy in /home/baldasseroniluisesteban/.venv/lib/python3.12/site-packages (from optuna==3.6.1) (1.26.4)\n",
      "Requirement already satisfied: packaging>=20.0 in /home/baldasseroniluisesteban/.venv/lib/python3.12/site-packages (from optuna==3.6.1) (24.1)\n",
      "Requirement already satisfied: sqlalchemy>=1.3.0 in /home/baldasseroniluisesteban/.venv/lib/python3.12/site-packages (from optuna==3.6.1) (2.0.36)\n",
      "Requirement already satisfied: tqdm in /home/baldasseroniluisesteban/.venv/lib/python3.12/site-packages (from optuna==3.6.1) (4.66.5)\n",
      "Requirement already satisfied: PyYAML in /home/baldasseroniluisesteban/.venv/lib/python3.12/site-packages (from optuna==3.6.1) (6.0.2)\n",
      "Requirement already satisfied: Mako in /home/baldasseroniluisesteban/.venv/lib/python3.12/site-packages (from alembic>=1.5.0->optuna==3.6.1) (1.3.5)\n",
      "Requirement already satisfied: typing-extensions>=4 in /home/baldasseroniluisesteban/.venv/lib/python3.12/site-packages (from alembic>=1.5.0->optuna==3.6.1) (4.12.2)\n",
      "Requirement already satisfied: greenlet!=0.4.17 in /home/baldasseroniluisesteban/.venv/lib/python3.12/site-packages (from sqlalchemy>=1.3.0->optuna==3.6.1) (3.0.3)\n",
      "Requirement already satisfied: MarkupSafe>=0.9.2 in /home/baldasseroniluisesteban/.venv/lib/python3.12/site-packages (from Mako->alembic>=1.5.0->optuna==3.6.1) (3.0.2)\n",
      "Downloading optuna-3.6.1-py3-none-any.whl (380 kB)\n",
      "Installing collected packages: optuna\n",
      "  Attempting uninstall: optuna\n",
      "    Found existing installation: optuna 4.0.0\n",
      "    Uninstalling optuna-4.0.0:\n",
      "      Successfully uninstalled optuna-4.0.0\n",
      "Successfully installed optuna-3.6.1\n",
      "\n",
      "\u001b[1m[\u001b[0m\u001b[34;49mnotice\u001b[0m\u001b[1;39;49m]\u001b[0m\u001b[39;49m A new release of pip is available: \u001b[0m\u001b[31;49m24.2\u001b[0m\u001b[39;49m -> \u001b[0m\u001b[32;49m24.3.1\u001b[0m\n",
      "\u001b[1m[\u001b[0m\u001b[34;49mnotice\u001b[0m\u001b[1;39;49m]\u001b[0m\u001b[39;49m To update, run: \u001b[0m\u001b[32;49mpip install --upgrade pip\u001b[0m\n",
      "Note: you may need to restart the kernel to use updated packages.\n"
     ]
    }
   ],
   "source": [
    "%pip install optuna==3.6.1"
   ]
  },
  {
   "cell_type": "code",
   "execution_count": 2,
   "id": "081f6b18-d0d2-46a9-8507-5dda66258302",
   "metadata": {},
   "outputs": [
    {
     "name": "stderr",
     "output_type": "stream",
     "text": [
      "/home/baldasseroniluisesteban/.venv/lib/python3.12/site-packages/tqdm/auto.py:21: TqdmWarning: IProgress not found. Please update jupyter and ipywidgets. See https://ipywidgets.readthedocs.io/en/stable/user_install.html\n",
      "  from .autonotebook import tqdm as notebook_tqdm\n"
     ]
    }
   ],
   "source": [
    "import pandas as pd\n",
    "import optuna\n",
    "from optuna.visualization import plot_optimization_history, plot_param_importances, plot_slice, plot_contour\n",
    "from sklearn.preprocessing import PolynomialFeatures\n",
    "import pandas as pd"
   ]
  },
  {
   "cell_type": "code",
   "execution_count": 7,
   "id": "bb81a100-942c-4499-a8e0-b77430625bc0",
   "metadata": {},
   "outputs": [],
   "source": [
    "%run \"Proyecto_v101/enviroment.ipynb\""
   ]
  },
  {
   "cell_type": "code",
   "execution_count": 12,
   "id": "fff241c2-54fb-486c-a500-4fdb1d783fb5",
   "metadata": {
    "scrolled": true
   },
   "outputs": [
    {
     "data": {
      "text/html": [
       "<div>\n",
       "<style scoped>\n",
       "    .dataframe tbody tr th:only-of-type {\n",
       "        vertical-align: middle;\n",
       "    }\n",
       "\n",
       "    .dataframe tbody tr th {\n",
       "        vertical-align: top;\n",
       "    }\n",
       "\n",
       "    .dataframe thead th {\n",
       "        text-align: right;\n",
       "    }\n",
       "</style>\n",
       "<table border=\"1\" class=\"dataframe\">\n",
       "  <thead>\n",
       "    <tr style=\"text-align: right;\">\n",
       "      <th></th>\n",
       "      <th>numero_de_cliente</th>\n",
       "      <th>foto_mes</th>\n",
       "      <th>active_quarter</th>\n",
       "      <th>cliente_vip</th>\n",
       "      <th>internet</th>\n",
       "      <th>cliente_edad</th>\n",
       "      <th>cliente_antiguedad</th>\n",
       "      <th>mrentabilidad</th>\n",
       "      <th>mrentabilidad_annual</th>\n",
       "      <th>mcomisiones</th>\n",
       "      <th>...</th>\n",
       "      <th>Visa_fultimo_cierre</th>\n",
       "      <th>Visa_mpagado</th>\n",
       "      <th>Visa_mpagospesos</th>\n",
       "      <th>Visa_mpagosdolares</th>\n",
       "      <th>Visa_fechaalta</th>\n",
       "      <th>Visa_mconsumototal</th>\n",
       "      <th>Visa_cconsumos</th>\n",
       "      <th>Visa_cadelantosefectivo</th>\n",
       "      <th>Visa_mpagominimo</th>\n",
       "      <th>clase_ternaria</th>\n",
       "    </tr>\n",
       "  </thead>\n",
       "  <tbody>\n",
       "    <tr>\n",
       "      <th>0</th>\n",
       "      <td>865361379</td>\n",
       "      <td>202101</td>\n",
       "      <td>1</td>\n",
       "      <td>0</td>\n",
       "      <td>0</td>\n",
       "      <td>34</td>\n",
       "      <td>134</td>\n",
       "      <td>445.55</td>\n",
       "      <td>5462.66</td>\n",
       "      <td>385.70</td>\n",
       "      <td>...</td>\n",
       "      <td>4.0</td>\n",
       "      <td>0.0</td>\n",
       "      <td>-779.25</td>\n",
       "      <td>0.0</td>\n",
       "      <td>4074.0</td>\n",
       "      <td>779.25</td>\n",
       "      <td>2.0</td>\n",
       "      <td>0.0</td>\n",
       "      <td>35.19</td>\n",
       "      <td>CONTINUA</td>\n",
       "    </tr>\n",
       "    <tr>\n",
       "      <th>1</th>\n",
       "      <td>865361379</td>\n",
       "      <td>202102</td>\n",
       "      <td>1</td>\n",
       "      <td>0</td>\n",
       "      <td>0</td>\n",
       "      <td>34</td>\n",
       "      <td>135</td>\n",
       "      <td>525.97</td>\n",
       "      <td>5734.45</td>\n",
       "      <td>380.13</td>\n",
       "      <td>...</td>\n",
       "      <td>-3.0</td>\n",
       "      <td>0.0</td>\n",
       "      <td>-788.60</td>\n",
       "      <td>0.0</td>\n",
       "      <td>4102.0</td>\n",
       "      <td>861.70</td>\n",
       "      <td>2.0</td>\n",
       "      <td>0.0</td>\n",
       "      <td>35.19</td>\n",
       "      <td>CONTINUA</td>\n",
       "    </tr>\n",
       "    <tr>\n",
       "      <th>2</th>\n",
       "      <td>865361379</td>\n",
       "      <td>202103</td>\n",
       "      <td>1</td>\n",
       "      <td>0</td>\n",
       "      <td>0</td>\n",
       "      <td>34</td>\n",
       "      <td>136</td>\n",
       "      <td>2075.33</td>\n",
       "      <td>7553.68</td>\n",
       "      <td>1994.59</td>\n",
       "      <td>...</td>\n",
       "      <td>1.0</td>\n",
       "      <td>0.0</td>\n",
       "      <td>-872.05</td>\n",
       "      <td>0.0</td>\n",
       "      <td>4133.0</td>\n",
       "      <td>988.35</td>\n",
       "      <td>2.0</td>\n",
       "      <td>0.0</td>\n",
       "      <td>46.92</td>\n",
       "      <td>CONTINUA</td>\n",
       "    </tr>\n",
       "    <tr>\n",
       "      <th>3</th>\n",
       "      <td>865361379</td>\n",
       "      <td>202104</td>\n",
       "      <td>1</td>\n",
       "      <td>0</td>\n",
       "      <td>0</td>\n",
       "      <td>34</td>\n",
       "      <td>137</td>\n",
       "      <td>-1077.29</td>\n",
       "      <td>6202.98</td>\n",
       "      <td>-1159.95</td>\n",
       "      <td>...</td>\n",
       "      <td>2.0</td>\n",
       "      <td>0.0</td>\n",
       "      <td>-1000.21</td>\n",
       "      <td>0.0</td>\n",
       "      <td>4163.0</td>\n",
       "      <td>988.35</td>\n",
       "      <td>2.0</td>\n",
       "      <td>0.0</td>\n",
       "      <td>46.92</td>\n",
       "      <td>CONTINUA</td>\n",
       "    </tr>\n",
       "    <tr>\n",
       "      <th>4</th>\n",
       "      <td>865361379</td>\n",
       "      <td>202105</td>\n",
       "      <td>1</td>\n",
       "      <td>0</td>\n",
       "      <td>0</td>\n",
       "      <td>34</td>\n",
       "      <td>138</td>\n",
       "      <td>541.40</td>\n",
       "      <td>5178.31</td>\n",
       "      <td>475.75</td>\n",
       "      <td>...</td>\n",
       "      <td>5.0</td>\n",
       "      <td>0.0</td>\n",
       "      <td>-1000.21</td>\n",
       "      <td>0.0</td>\n",
       "      <td>4194.0</td>\n",
       "      <td>988.35</td>\n",
       "      <td>2.0</td>\n",
       "      <td>0.0</td>\n",
       "      <td>46.92</td>\n",
       "      <td>CONTINUA</td>\n",
       "    </tr>\n",
       "  </tbody>\n",
       "</table>\n",
       "<p>5 rows × 155 columns</p>\n",
       "</div>"
      ],
      "text/plain": [
       "   numero_de_cliente  foto_mes  active_quarter  cliente_vip  internet  \\\n",
       "0          865361379    202101               1            0         0   \n",
       "1          865361379    202102               1            0         0   \n",
       "2          865361379    202103               1            0         0   \n",
       "3          865361379    202104               1            0         0   \n",
       "4          865361379    202105               1            0         0   \n",
       "\n",
       "   cliente_edad  cliente_antiguedad  mrentabilidad  mrentabilidad_annual  \\\n",
       "0            34                 134         445.55               5462.66   \n",
       "1            34                 135         525.97               5734.45   \n",
       "2            34                 136        2075.33               7553.68   \n",
       "3            34                 137       -1077.29               6202.98   \n",
       "4            34                 138         541.40               5178.31   \n",
       "\n",
       "   mcomisiones  ...  Visa_fultimo_cierre  Visa_mpagado  Visa_mpagospesos  \\\n",
       "0       385.70  ...                  4.0           0.0           -779.25   \n",
       "1       380.13  ...                 -3.0           0.0           -788.60   \n",
       "2      1994.59  ...                  1.0           0.0           -872.05   \n",
       "3     -1159.95  ...                  2.0           0.0          -1000.21   \n",
       "4       475.75  ...                  5.0           0.0          -1000.21   \n",
       "\n",
       "   Visa_mpagosdolares  Visa_fechaalta  Visa_mconsumototal  Visa_cconsumos  \\\n",
       "0                 0.0          4074.0              779.25             2.0   \n",
       "1                 0.0          4102.0              861.70             2.0   \n",
       "2                 0.0          4133.0              988.35             2.0   \n",
       "3                 0.0          4163.0              988.35             2.0   \n",
       "4                 0.0          4194.0              988.35             2.0   \n",
       "\n",
       "   Visa_cadelantosefectivo  Visa_mpagominimo  clase_ternaria  \n",
       "0                      0.0             35.19        CONTINUA  \n",
       "1                      0.0             35.19        CONTINUA  \n",
       "2                      0.0             46.92        CONTINUA  \n",
       "3                      0.0             46.92        CONTINUA  \n",
       "4                      0.0             46.92        CONTINUA  \n",
       "\n",
       "[5 rows x 155 columns]"
      ]
     },
     "execution_count": 12,
     "metadata": {},
     "output_type": "execute_result"
    }
   ],
   "source": [
    "base_path = '/home/baldasseroniluisesteban/buckets/b1/'\n",
    "dataset_path = base_path + 'datasets/'\n",
    "\n",
    "\n",
    "df = pd.read_csv(dataset_path + 'competencia_02_sin_nulos.csv.gz')\n",
    "df.head()"
   ]
  },
  {
   "cell_type": "code",
   "execution_count": 4,
   "id": "5b60dd50-3ff5-4cf8-b87a-a31cf52cb43f",
   "metadata": {
    "scrolled": true
   },
   "outputs": [],
   "source": [
    "#df.info()"
   ]
  },
  {
   "cell_type": "code",
   "execution_count": 5,
   "id": "688f10cd-f54f-4a7f-adb4-a570e085db1c",
   "metadata": {},
   "outputs": [],
   "source": [
    "#df.describe()"
   ]
  },
  {
   "cell_type": "code",
   "execution_count": 10,
   "id": "ad512e45-30f8-4b1b-8e79-232a3036110e",
   "metadata": {},
   "outputs": [],
   "source": [
    "ganancia_acierto = 273000\n",
    "costo_estimulo = 7000\n",
    "\n",
    "mes_train_inicio = 202002\n",
    "mes_train_final = 202102\n",
    "mes_test = 202104\n",
    "\n",
    "# agregue sus semillas\n",
    "semillas = [127,181,13]"
   ]
  },
  {
   "cell_type": "code",
   "execution_count": 13,
   "id": "4502be50-6864-435e-bf2e-770b41d16400",
   "metadata": {},
   "outputs": [],
   "source": [
    "# Selección de columnas numéricas para la transformación\n",
    "data_selected = df[['ctarjeta_visa', 'Visa_cadelantosefectivo', 'cdescubierto_preacordado',\n",
    "                    'ctrx_quarter', 'ctarjeta_master', 'cproductos', 'Visa_status',\n",
    "                    'cpayroll_trx']]\n",
    "\n",
    "# Instanciación de PolynomialFeatures\n",
    "poly = PolynomialFeatures(degree=3, include_bias=False)\n",
    "\n",
    "# Aplicar la transformación a los datos seleccionados\n",
    "data_selected_poly = poly.fit_transform(data_selected)\n",
    "\n",
    "# Crear DataFrame con nuevas características generadas\n",
    "data_selected_poly_df = pd.DataFrame(data_selected_poly, \n",
    "                                     columns=poly.get_feature_names_out(data_selected.columns))\n",
    "\n",
    "# Renombrar las nuevas columnas para que no coincidan con las originales\n",
    "data_selected_poly_df.columns = [f\"poly_{col}\" for col in data_selected_poly_df.columns]\n",
    "\n",
    "# Concatenar las nuevas columnas al DataFrame original\n",
    "df_engine = pd.concat([df, data_selected_poly_df], axis=1)\n"
   ]
  },
  {
   "cell_type": "code",
   "execution_count": 14,
   "id": "7b8cfd6c-9c26-4056-890f-758d7d710731",
   "metadata": {},
   "outputs": [],
   "source": [
    "df_engine['clase_peso'] = 1.0\n",
    "\n",
    "df_engine.loc[df_engine['clase_ternaria'] == 'BAJA+2', 'clase_peso'] = 1.00002\n",
    "df_engine.loc[df_engine['clase_ternaria'] == 'BAJA+1', 'clase_peso'] = 1.00001"
   ]
  },
  {
   "cell_type": "code",
   "execution_count": 15,
   "id": "c764a0bd-ceb1-4701-be2e-3dc1b718ff3e",
   "metadata": {},
   "outputs": [],
   "source": [
    "import numpy as np\n",
    "\n",
    "df_engine['clase_binaria1'] = 0\n",
    "df_engine['clase_binaria2'] = 0\n",
    "df_engine['clase_binaria1'] = np.where(df_engine['clase_ternaria'] == 'BAJA+2', 1, 0)\n",
    "df_engine['clase_binaria2'] = np.where(df_engine['clase_ternaria'] == 'CONTINUA', 0, 1)"
   ]
  },
  {
   "cell_type": "code",
   "execution_count": 16,
   "id": "e70cb347-49af-4b55-8334-fccea4eb2251",
   "metadata": {},
   "outputs": [],
   "source": [
    "train_data_engine = df_engine[(mes_train_inicio <= df_engine['foto_mes']) & (df_engine['foto_mes'] <= mes_train_final)]\n",
    "test_data_engine = df_engine[df_engine['foto_mes'] == mes_test]"
   ]
  },
  {
   "cell_type": "code",
   "execution_count": 17,
   "id": "d4ef1c44-b7de-45b4-b868-1745b2e4dc32",
   "metadata": {},
   "outputs": [],
   "source": [
    "X_train_engine = train_data_engine.drop(['clase_ternaria', 'clase_peso', 'clase_binaria1','clase_binaria2'], axis=1)\n",
    "y_train_binaria1_engine = train_data_engine['clase_binaria1']\n",
    "y_train_binaria2_engine = train_data_engine['clase_binaria2']\n",
    "w_train_engine = train_data_engine['clase_peso']\n",
    "\n",
    "X_test_engine = test_data_engine.drop(['clase_ternaria', 'clase_peso', 'clase_binaria1','clase_binaria2'], axis=1)\n",
    "y_test_binaria1_engine = test_data_engine['clase_binaria1']\n",
    "y_test_class_engine = test_data_engine['clase_ternaria']\n",
    "w_test_engine = test_data_engine['clase_peso']"
   ]
  },
  {
   "cell_type": "code",
   "execution_count": 18,
   "id": "0c0be66f-e219-43e1-ae93-406a5f8c0647",
   "metadata": {},
   "outputs": [],
   "source": [
    "def lgb_gan_eval(y_pred, data):\n",
    "    weight = data.get_weight()\n",
    "    ganancia = np.where(weight == 1.00002, ganancia_acierto, 0) - np.where(weight < 1.00002, costo_estimulo, 0)\n",
    "    ganancia = ganancia[np.argsort(y_pred)[::-1]]\n",
    "    ganancia = np.cumsum(ganancia)\n",
    "\n",
    "    return 'gan_eval', np.max(ganancia) , True"
   ]
  },
  {
   "cell_type": "code",
   "execution_count": 19,
   "id": "a1f07342-7b51-44a5-b468-bb79468d45e7",
   "metadata": {},
   "outputs": [
    {
     "data": {
      "text/html": [
       "<style type='text/css'>\n",
       ".datatable table.frame { margin-bottom: 0; }\n",
       ".datatable table.frame thead { border-bottom: none; }\n",
       ".datatable table.frame tr.coltypes td {  color: #FFFFFF;  line-height: 6px;  padding: 0 0.5em;}\n",
       ".datatable .bool    { background: #DDDD99; }\n",
       ".datatable .object  { background: #565656; }\n",
       ".datatable .int     { background: #5D9E5D; }\n",
       ".datatable .float   { background: #4040CC; }\n",
       ".datatable .str     { background: #CC4040; }\n",
       ".datatable .time    { background: #40CC40; }\n",
       ".datatable .row_index {  background: var(--jp-border-color3);  border-right: 1px solid var(--jp-border-color0);  color: var(--jp-ui-font-color3);  font-size: 9px;}\n",
       ".datatable .frame tbody td { text-align: left; }\n",
       ".datatable .frame tr.coltypes .row_index {  background: var(--jp-border-color0);}\n",
       ".datatable th:nth-child(2) { padding-left: 12px; }\n",
       ".datatable .hellipsis {  color: var(--jp-cell-editor-border-color);}\n",
       ".datatable .vellipsis {  background: var(--jp-layout-color0);  color: var(--jp-cell-editor-border-color);}\n",
       ".datatable .na {  color: var(--jp-cell-editor-border-color);  font-size: 80%;}\n",
       ".datatable .sp {  opacity: 0.25;}\n",
       ".datatable .footer { font-size: 9px; }\n",
       ".datatable .frame_dimensions {  background: var(--jp-border-color3);  border-top: 1px solid var(--jp-border-color0);  color: var(--jp-ui-font-color3);  display: inline-block;  opacity: 0.6;  padding: 1px 10px 1px 5px;}\n",
       "</style>\n"
      ],
      "text/plain": [
       "<IPython.core.display.HTML object>"
      ]
     },
     "metadata": {},
     "output_type": "display_data"
    },
    {
     "name": "stderr",
     "output_type": "stream",
     "text": [
      "/home/baldasseroniluisesteban/.venv/lib/python3.12/site-packages/dask/dataframe/__init__.py:42: FutureWarning: \n",
      "Dask dataframe query planning is disabled because dask-expr is not installed.\n",
      "\n",
      "You can install it with `pip install dask[dataframe]` or `conda install dask`.\n",
      "This will raise in a future version.\n",
      "\n",
      "  warnings.warn(msg, FutureWarning)\n"
     ]
    }
   ],
   "source": [
    "import lightgbm as lgb\n",
    "\n",
    "train_data1_engine = lgb.Dataset(X_train_engine, label=y_train_binaria1_engine, weight=w_train_engine)\n",
    "train_data2_engine = lgb.Dataset(X_train_engine, label=y_train_binaria2_engine, weight=w_train_engine)"
   ]
  },
  {
   "cell_type": "code",
   "execution_count": 20,
   "id": "279140da-de73-4dd3-aa55-3151a43ea9ca",
   "metadata": {},
   "outputs": [
    {
     "name": "stderr",
     "output_type": "stream",
     "text": [
      "[I 2024-11-21 14:08:23,266] A new study created in RDB with name: exp_101_lgbm_engine_final\n"
     ]
    }
   ],
   "source": [
    "def objective_engine(trial):\n",
    "    num_leaves = trial.suggest_int('num_leaves', 100, 500)\n",
    "    learning_rate = trial.suggest_float('learning_rate', 0.01, 0.2)\n",
    "    min_data_in_leaf = trial.suggest_int('min_data_in_leaf', 10, 1000)\n",
    "    feature_fraction = trial.suggest_float('feature_fraction', 0.3, 1.0)\n",
    "    bagging_fraction = trial.suggest_float('bagging_fraction', 0.3, 1.0)\n",
    "    max_depth = trial.suggest_int('max_depth', 3, 100)\n",
    "    bagging_freq = trial.suggest_int('bagging_freq', 1, 300)\n",
    "\n",
    "    params = {\n",
    "        'objective': 'binary',\n",
    "        'metric': 'custom',\n",
    "        'boosting_type': 'gbdt',\n",
    "        'first_metric_only': True,\n",
    "        'boost_from_average': True,\n",
    "        'feature_pre_filter': False,\n",
    "        'max_bin': 31,\n",
    "        'num_leaves': num_leaves,\n",
    "        'learning_rate': learning_rate,\n",
    "        'min_data_in_leaf': min_data_in_leaf,\n",
    "        'feature_fraction': feature_fraction,\n",
    "        'bagging_fraction': bagging_fraction,\n",
    "        'max_depth': max_depth,\n",
    "        'bagging_freq': bagging_freq,\n",
    "        'seed': semillas[0],\n",
    "        'verbose': -1,\n",
    "        'early_stopping' :30,\n",
    "    }\n",
    "    train_data = lgb.Dataset(X_train_engine,\n",
    "                              label=y_train_binaria2_engine, # eligir la clase\n",
    "                              weight=w_train_engine)\n",
    "\n",
    "    cv_results = lgb.cv(\n",
    "        params,\n",
    "        train_data,\n",
    "        num_boost_round=50,\n",
    "        feval=lgb_gan_eval,\n",
    "        stratified=True,\n",
    "        nfold=5,\n",
    "        seed=semillas[0]\n",
    "    )\n",
    "\n",
    "\n",
    "\n",
    "\n",
    "\n",
    "    max_gan = max(cv_results['valid gan_eval-mean'])\n",
    "    best_iter = cv_results['valid gan_eval-mean'].index(max_gan) + 1\n",
    "\n",
    "    # Guardamos cual es la mejor iteración del modelo\n",
    "    trial.set_user_attr(\"best_iter\", best_iter)\n",
    "\n",
    "    return max_gan * 5\n",
    "\n",
    "\n",
    "storage_name = \"sqlite:///\" + dataset_path + \"optimization_lgbm_engine_final.db\"\n",
    "study_name = \"exp_101_lgbm_engine_final\"\n",
    "\n",
    "study_engine = optuna.create_study(\n",
    "    direction=\"maximize\",\n",
    "    study_name=study_name,\n",
    "    storage=storage_name,\n",
    "    load_if_exists=True,\n",
    ")"
   ]
  },
  {
   "cell_type": "code",
   "execution_count": null,
   "id": "1aff3900-48ad-4fb6-9a28-767519377044",
   "metadata": {},
   "outputs": [],
   "source": [
    "study_engine.optimize(objective_engine, n_trials=50) # subir subir"
   ]
  },
  {
   "cell_type": "code",
   "execution_count": null,
   "id": "5b97b553-fcff-4238-bb54-a6beece45fe7",
   "metadata": {},
   "outputs": [],
   "source": [
    "optuna.visualization.plot_optimization_history(study_engine)"
   ]
  },
  {
   "cell_type": "code",
   "execution_count": null,
   "id": "ecffb96c-68ff-44b7-b1a3-38462aa8d6f0",
   "metadata": {},
   "outputs": [],
   "source": [
    "df['clase_peso'] = 1.0\n",
    "\n",
    "df.loc[df['clase_ternaria'] == 'BAJA+2', 'clase_peso'] = 1.00002\n",
    "df.loc[df['clase_ternaria'] == 'BAJA+1', 'clase_peso'] = 1.00001"
   ]
  },
  {
   "cell_type": "code",
   "execution_count": null,
   "id": "f16b2f4a-3300-49cf-b5b9-830dbd429dd6",
   "metadata": {},
   "outputs": [],
   "source": [
    "df['clase_binaria1'] = 0\n",
    "df['clase_binaria2'] = 0\n",
    "df['clase_binaria1'] = np.where(df['clase_ternaria'] == 'BAJA+2', 1, 0)\n",
    "df['clase_binaria2'] = np.where(df['clase_ternaria'] == 'CONTINUA', 0, 1)"
   ]
  },
  {
   "cell_type": "code",
   "execution_count": null,
   "id": "0b00aabf-f03f-4838-9d39-f69871ff1d7a",
   "metadata": {},
   "outputs": [],
   "source": [
    "train_data = df[(mes_train_inicio <= df['foto_mes']) & (df['foto_mes'] <= mes_train_final)]\n",
    "test_data = df[df['foto_mes'] == mes_test]"
   ]
  },
  {
   "cell_type": "code",
   "execution_count": null,
   "id": "22c30016-b77c-4e8b-b925-ba45a0d4cb7c",
   "metadata": {},
   "outputs": [],
   "source": [
    "X_train = train_data.drop(['clase_ternaria', 'clase_peso', 'clase_binaria1','clase_binaria2'], axis=1)\n",
    "y_train_binaria1 = train_data['clase_binaria1']\n",
    "y_train_binaria2 = train_data['clase_binaria2']\n",
    "w_train = train_data['clase_peso']\n",
    "\n",
    "X_test = test_data.drop(['clase_ternaria', 'clase_peso', 'clase_binaria1','clase_binaria2'], axis=1)\n",
    "y_test_binaria1 = test_data['clase_binaria1']\n",
    "y_test_class = test_data['clase_ternaria']\n",
    "w_test = test_data['clase_peso']"
   ]
  },
  {
   "cell_type": "code",
   "execution_count": null,
   "id": "a7bb1db7-1295-4b66-92c9-70dfa13b27ad",
   "metadata": {},
   "outputs": [],
   "source": [
    "import lightgbm as lgb\n",
    "\n",
    "train_data1 = lgb.Dataset(X_train, label=y_train_binaria1, weight=w_train)\n",
    "train_data2 = lgb.Dataset(X_train, label=y_train_binaria2, weight=w_train)"
   ]
  },
  {
   "cell_type": "code",
   "execution_count": null,
   "id": "9ca0a4da-c145-47fb-8413-cb237c03cb67",
   "metadata": {},
   "outputs": [],
   "source": [
    "def objective(trial):\n",
    "    num_leaves = trial.suggest_int('num_leaves', 100, 500)\n",
    "    learning_rate = trial.suggest_float('learning_rate', 0.01, 0.2)\n",
    "    min_data_in_leaf = trial.suggest_int('min_data_in_leaf', 10, 1000)\n",
    "    feature_fraction = trial.suggest_float('feature_fraction', 0.3, 1.0)\n",
    "    bagging_fraction = trial.suggest_float('bagging_fraction', 0.3, 1.0)\n",
    "    max_depth = trial.suggest_int('max_depth', 3, 100)\n",
    "    bagging_freq = trial.suggest_int('bagging_freq', 1, 300)\n",
    "\n",
    "    params = {\n",
    "        'objective': 'binary',\n",
    "        'metric': 'custom',\n",
    "        'boosting_type': 'gbdt',\n",
    "        'first_metric_only': True,\n",
    "        'boost_from_average': True,\n",
    "        'feature_pre_filter': False,\n",
    "        'max_bin': 31,\n",
    "        'num_leaves': num_leaves,\n",
    "        'learning_rate': learning_rate,\n",
    "        'min_data_in_leaf': min_data_in_leaf,\n",
    "        'feature_fraction': feature_fraction,\n",
    "        'bagging_fraction': bagging_fraction,\n",
    "        'max_depth': max_depth,\n",
    "        'bagging_freq': bagging_freq,\n",
    "        'seed': semillas[0],\n",
    "        'verbose': -1,\n",
    "        'early_stopping' :30,\n",
    "    }\n",
    "    train_data = lgb.Dataset(X_train,\n",
    "                              label=y_train_binaria2, # eligir la clase\n",
    "                              weight=w_train)\n",
    "\n",
    "    cv_results = lgb.cv(\n",
    "        params,\n",
    "        train_data,\n",
    "        num_boost_round=50,\n",
    "        feval=lgb_gan_eval,\n",
    "        stratified=True,\n",
    "        nfold=5,\n",
    "        seed=semillas[0]\n",
    "    )\n",
    "\n",
    "\n",
    "\n",
    "\n",
    "\n",
    "    max_gan = max(cv_results['valid gan_eval-mean'])\n",
    "    best_iter = cv_results['valid gan_eval-mean'].index(max_gan) + 1\n",
    "\n",
    "    # Guardamos cual es la mejor iteración del modelo\n",
    "    trial.set_user_attr(\"best_iter\", best_iter)\n",
    "\n",
    "    return max_gan * 5\n",
    "\n",
    "\n",
    "storage_name = \"sqlite:///\" + dataset_path + \"optimization_lgbm_base_final.db\"\n",
    "study_name = \"exp_101_lgbm_base_final\"\n",
    "\n",
    "study_base = optuna.create_study(\n",
    "    direction=\"maximize\",\n",
    "    study_name=study_name,\n",
    "    storage=storage_name,\n",
    "    load_if_exists=True,\n",
    ")"
   ]
  },
  {
   "cell_type": "code",
   "execution_count": null,
   "id": "7faef11c-e4a0-4083-9ac6-becd5e522230",
   "metadata": {},
   "outputs": [],
   "source": [
    "study_base.optimize(objective, n_trials=50) # subir subir"
   ]
  },
  {
   "cell_type": "code",
   "execution_count": null,
   "id": "c64050f7-631f-4e56-922a-c03a322a0988",
   "metadata": {},
   "outputs": [],
   "source": [
    "optuna.visualization.plot_optimization_history(study_base)"
   ]
  },
  {
   "cell_type": "code",
   "execution_count": null,
   "id": "9052e3ff-9c14-46ff-988a-b619036317c9",
   "metadata": {},
   "outputs": [],
   "source": [
    "best_iter = study_base.best_trial.user_attrs[\"best_iter\"]\n",
    "print(f\"Mejor cantidad de árboles para el mejor model {best_iter}\")\n",
    "params = {\n",
    "    'objective': 'binary',\n",
    "    'boosting_type': 'gbdt',\n",
    "    'first_metric_only': True,\n",
    "    'boost_from_average': True,\n",
    "    'feature_pre_filter': False,\n",
    "    'max_bin': 31,\n",
    "    'num_leaves': study_base.best_trial.params['num_leaves'],\n",
    "    'learning_rate': study_base.best_trial.params['learning_rate'],\n",
    "    'min_data_in_leaf': study_base.best_trial.params['min_data_in_leaf'],\n",
    "    'feature_fraction': study_base.best_trial.params['feature_fraction'],\n",
    "    'bagging_fraction': study_base.best_trial.params['bagging_fraction'],\n",
    "    'seed': semillas[0],\n",
    "    'verbose': 0\n",
    "}\n",
    "\n",
    "train_data = lgb.Dataset(X_train,\n",
    "                          label=y_train_binaria2,\n",
    "                          weight=w_train)\n",
    "\n",
    "model_base = lgb.train(params,\n",
    "                  train_data,\n",
    "                  num_boost_round=best_iter)"
   ]
  },
  {
   "cell_type": "code",
   "execution_count": null,
   "id": "6036a8fb-cf96-48fa-a267-87f94e9d1764",
   "metadata": {},
   "outputs": [],
   "source": [
    "best_iter = study_engine.best_trial.user_attrs[\"best_iter\"]\n",
    "print(f\"Mejor cantidad de árboles para el mejor model {best_iter}\")\n",
    "params = {\n",
    "    'objective': 'binary',\n",
    "    'boosting_type': 'gbdt',\n",
    "    'first_metric_only': True,\n",
    "    'boost_from_average': True,\n",
    "    'feature_pre_filter': False,\n",
    "    'max_bin': 31,\n",
    "    'num_leaves': study_engine.best_trial.params['num_leaves'],\n",
    "    'learning_rate': study_engine.best_trial.params['learning_rate'],\n",
    "    'min_data_in_leaf': study_engine.best_trial.params['min_data_in_leaf'],\n",
    "    'feature_fraction': study_engine.best_trial.params['feature_fraction'],\n",
    "    'bagging_fraction': study_engine.best_trial.params['bagging_fraction'],\n",
    "    'seed': semillas[0],\n",
    "    'verbose': 0\n",
    "}\n",
    "\n",
    "train_data = lgb.Dataset(X_train_engine,\n",
    "                          label=y_train_binaria2_engine,\n",
    "                          weight=w_train_engine)\n",
    "\n",
    "model_engine = lgb.train(params,\n",
    "                  train_data,\n",
    "                  num_boost_round=best_iter)"
   ]
  },
  {
   "cell_type": "code",
   "execution_count": null,
   "id": "d0c01c82-2d62-490c-a188-45abd9e3088e",
   "metadata": {},
   "outputs": [],
   "source": [
    "y_pred_lgm_base = model_base.predict(X_test)\n",
    "y_pred_lgm_engine = model_engine.predict(X_test_engine)"
   ]
  },
  {
   "cell_type": "code",
   "execution_count": null,
   "id": "7c8a297e-a37d-4a2d-b2e0-51ae455a619b",
   "metadata": {},
   "outputs": [],
   "source": [
    "def ganancia_prob(y_pred, y_true, prop = 1):\n",
    "  ganancia = np.where(y_true == 1, ganancia_acierto, 0) - np.where(y_true == 0, costo_estimulo, 0)\n",
    "  return ganancia[y_pred >= 0.025].sum() / prop\n",
    "\n",
    "print(\"Ganancia LGBM - BASE:\", ganancia_prob(y_pred_lgm_base, y_test_binaria1))\n",
    "print(\"Ganancia LGBM - ENGINE:\", ganancia_prob(y_pred_lgm_engine, y_test_binaria1_engine))"
   ]
  },
  {
   "cell_type": "code",
   "execution_count": null,
   "id": "edd2ef98-7caf-4d9f-8321-de415b327a9e",
   "metadata": {},
   "outputs": [],
   "source": [
    "sss_futuro = StratifiedShuffleSplit(n_splits=50,\n",
    "                             test_size=0.3,\n",
    "                             random_state=semillas[0])\n",
    "\n",
    "modelos = {\"rf\":y_pred_rf, \"lgbm\":y_pred_lgm}\n",
    "rows = []\n",
    "for private_index, public_index in sss_futuro.split(X_test, y_test_binaria1):\n",
    "  row = {}\n",
    "  for name, y_pred in modelos.items():\n",
    "    row[name + \"_public\"] = ganancia_prob(y_pred[public_index], y_test_binaria1.iloc[public_index], 0.3)\n",
    "    row[name + \"_private\"] = ganancia_prob(y_pred[private_index], y_test_binaria1.iloc[private_index], 0.7)\n",
    "  rows.append(row)\n",
    "df_lb = pd.DataFrame(rows)"
   ]
  },
  {
   "cell_type": "code",
   "execution_count": null,
   "id": "6df88b78-5d44-4acd-a45c-f82ff638ddc4",
   "metadata": {},
   "outputs": [],
   "source": []
  },
  {
   "cell_type": "code",
   "execution_count": null,
   "id": "fa265eb4-c848-497e-b3d3-3520bbc8a438",
   "metadata": {},
   "outputs": [],
   "source": []
  },
  {
   "cell_type": "code",
   "execution_count": null,
   "id": "edd554f2-c7a1-4ec9-8518-5df9ed367664",
   "metadata": {},
   "outputs": [],
   "source": []
  },
  {
   "cell_type": "code",
   "execution_count": null,
   "id": "9e25de9c-80b8-4763-a94a-1f9e09aafdba",
   "metadata": {},
   "outputs": [],
   "source": []
  },
  {
   "cell_type": "code",
   "execution_count": null,
   "id": "d41d3d26-0a08-48e0-8f3b-dd4f7d1e6912",
   "metadata": {},
   "outputs": [],
   "source": []
  },
  {
   "cell_type": "code",
   "execution_count": null,
   "id": "b4fcf5da-b1e4-4895-8e9f-5c0e8127b6fa",
   "metadata": {},
   "outputs": [],
   "source": []
  },
  {
   "cell_type": "code",
   "execution_count": null,
   "id": "439896fb-334a-4163-b6b8-10042c7fb005",
   "metadata": {},
   "outputs": [],
   "source": []
  },
  {
   "cell_type": "code",
   "execution_count": null,
   "id": "a63ea245-f3a4-4a73-b19e-da76a991ab66",
   "metadata": {},
   "outputs": [],
   "source": []
  },
  {
   "cell_type": "code",
   "execution_count": null,
   "id": "776850a7-b27a-4187-be83-a3c1cdbda742",
   "metadata": {},
   "outputs": [],
   "source": []
  },
  {
   "cell_type": "code",
   "execution_count": null,
   "id": "d8c4dea9-1a02-4635-babc-9409451a42ce",
   "metadata": {},
   "outputs": [],
   "source": []
  },
  {
   "cell_type": "code",
   "execution_count": null,
   "id": "653fc240-a9ba-4ea5-8419-4e53646d0a7a",
   "metadata": {},
   "outputs": [],
   "source": []
  },
  {
   "cell_type": "code",
   "execution_count": null,
   "id": "2663945a-6e7e-4c7a-a58c-559e804dde8e",
   "metadata": {},
   "outputs": [],
   "source": []
  },
  {
   "cell_type": "code",
   "execution_count": null,
   "id": "d22a9ac4-8083-455a-876d-fa04d6c9aa71",
   "metadata": {},
   "outputs": [],
   "source": []
  },
  {
   "cell_type": "code",
   "execution_count": null,
   "id": "476a7878-1b49-44ee-8507-29bd19221f58",
   "metadata": {},
   "outputs": [],
   "source": []
  },
  {
   "cell_type": "code",
   "execution_count": null,
   "id": "bdbd2dc0-e7ca-4d58-800e-88d4fd143e08",
   "metadata": {},
   "outputs": [],
   "source": []
  },
  {
   "cell_type": "code",
   "execution_count": null,
   "id": "f37f0084-dc3f-4809-a29d-ecad80d9b64e",
   "metadata": {},
   "outputs": [],
   "source": []
  },
  {
   "cell_type": "code",
   "execution_count": null,
   "id": "b49fdc38-8bd2-48ec-8179-3311b347ceee",
   "metadata": {},
   "outputs": [],
   "source": []
  },
  {
   "cell_type": "code",
   "execution_count": null,
   "id": "52cc0c3b-844e-4cc9-ba72-d62fe015c7a2",
   "metadata": {},
   "outputs": [],
   "source": []
  }
 ],
 "metadata": {
  "kernelspec": {
   "display_name": "Python 3 (ipykernel)",
   "language": "python",
   "name": "python3"
  },
  "language_info": {
   "codemirror_mode": {
    "name": "ipython",
    "version": 3
   },
   "file_extension": ".py",
   "mimetype": "text/x-python",
   "name": "python",
   "nbconvert_exporter": "python",
   "pygments_lexer": "ipython3",
   "version": "3.12.3"
  }
 },
 "nbformat": 4,
 "nbformat_minor": 5
}
