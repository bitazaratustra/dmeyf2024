{
 "cells": [
  {
   "cell_type": "code",
   "execution_count": null,
   "id": "b2672060-cf09-48c4-9603-86b7917b1d1b",
   "metadata": {},
   "outputs": [],
   "source": [
    "%run \"requirements.ipynb\""
   ]
  },
  {
   "cell_type": "code",
   "execution_count": null,
   "id": "faf1a08f-5644-4964-91d9-c5e6d730a872",
   "metadata": {},
   "outputs": [],
   "source": [
    "%run \"enviroment.ipynb\""
   ]
  },
  {
   "cell_type": "code",
   "execution_count": null,
   "id": "57eb23fc-b9d6-49bb-9a10-087db719871a",
   "metadata": {},
   "outputs": [],
   "source": []
  },
  {
   "cell_type": "code",
   "execution_count": null,
   "id": "7ba4ee1b-0e48-483f-92c8-22f6dc422585",
   "metadata": {},
   "outputs": [],
   "source": []
  },
  {
   "cell_type": "code",
   "execution_count": null,
   "id": "ad7aae74-454a-41e1-8859-8a30fb117236",
   "metadata": {},
   "outputs": [],
   "source": []
  },
  {
   "cell_type": "code",
   "execution_count": null,
   "id": "db93b20b-5466-4fcb-9ee8-aac43e2ed921",
   "metadata": {},
   "outputs": [],
   "source": []
  },
  {
   "cell_type": "code",
   "execution_count": null,
   "id": "ee01fd5d-d1b7-48a5-a787-0f923b417691",
   "metadata": {},
   "outputs": [],
   "source": []
  },
  {
   "cell_type": "code",
   "execution_count": null,
   "id": "8e6dbc1d-d877-4248-a9d1-0306e144a3f5",
   "metadata": {},
   "outputs": [],
   "source": []
  },
  {
   "cell_type": "code",
   "execution_count": null,
   "id": "f7a6191a-794f-4498-9221-19dc43c002ff",
   "metadata": {},
   "outputs": [],
   "source": []
  },
  {
   "cell_type": "code",
   "execution_count": null,
   "id": "cdbb3903-4f43-474e-8451-aa79fe6802bb",
   "metadata": {},
   "outputs": [],
   "source": []
  },
  {
   "cell_type": "code",
   "execution_count": null,
   "id": "91200bd6-ff98-459b-945b-28e90c3ad8d9",
   "metadata": {},
   "outputs": [],
   "source": []
  },
  {
   "cell_type": "code",
   "execution_count": null,
   "id": "0ebae04f-9ac0-4df0-b3f1-fda198553cc5",
   "metadata": {},
   "outputs": [],
   "source": []
  },
  {
   "cell_type": "code",
   "execution_count": null,
   "id": "bea16725-74b8-4f6f-a5e7-0d559254c1d7",
   "metadata": {},
   "outputs": [],
   "source": []
  },
  {
   "cell_type": "code",
   "execution_count": null,
   "id": "b24721fc-aae6-48a0-ab23-d9bd4768310b",
   "metadata": {},
   "outputs": [],
   "source": []
  },
  {
   "cell_type": "code",
   "execution_count": null,
   "id": "2b1fc1c1-a135-497c-9229-19630751e672",
   "metadata": {},
   "outputs": [],
   "source": []
  },
  {
   "cell_type": "code",
   "execution_count": null,
   "id": "daf4775d-df42-4751-a713-76da2a32c1ee",
   "metadata": {},
   "outputs": [],
   "source": []
  },
  {
   "cell_type": "code",
   "execution_count": null,
   "id": "5b01e5a7-b3af-4c8f-8f4b-4e7c0fbaa99a",
   "metadata": {},
   "outputs": [],
   "source": []
  },
  {
   "cell_type": "code",
   "execution_count": null,
   "id": "1f3e2415-89a7-40d2-8f8a-a4897c9bf4ec",
   "metadata": {},
   "outputs": [],
   "source": []
  }
 ],
 "metadata": {
  "kernelspec": {
   "display_name": "Python 3 (ipykernel)",
   "language": "python",
   "name": "python3"
  },
  "language_info": {
   "codemirror_mode": {
    "name": "ipython",
    "version": 3
   },
   "file_extension": ".py",
   "mimetype": "text/x-python",
   "name": "python",
   "nbconvert_exporter": "python",
   "pygments_lexer": "ipython3",
   "version": "3.12.3"
  }
 },
 "nbformat": 4,
 "nbformat_minor": 5
}
