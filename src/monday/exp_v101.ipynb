{
 "cells": [
  {
   "cell_type": "code",
   "execution_count": null,
   "id": "a762d237-2727-4d69-ac55-877d6ba20505",
   "metadata": {},
   "outputs": [],
   "source": [
    "import pandas as pd\n",
    "\n",
    "BASE_PATH = '/home/baldasseroniluisesteban/buckets/b1/datasets/'\n",
    "\n",
    "df = pd.read_csv(BASE_PATH + 'competencia_02_fe.csv')\n",
    "df.head()"
   ]
  },
  {
   "cell_type": "code",
   "execution_count": null,
   "id": "ad898be6-7a6d-41d8-b05c-da653d4ab225",
   "metadata": {},
   "outputs": [],
   "source": [
    "# Cargar el archivo con el diccionario de estadísticas (medias, cuartiles, deciles, etc.)\n",
    "df_estadisticas = pd.read_csv(BASE_PATH + 'DiccionarioDatos_2024_nulos.csv')\n",
    "\n",
    "# Cargar el archivo con las reglas de imputación\n",
    "df_reglas_imputacion = pd.read_csv(BASE_PATH + 'rank.csv')"
   ]
  },
  {
   "cell_type": "code",
   "execution_count": null,
   "id": "21566990-b46c-404e-a9fd-c6947ba31981",
   "metadata": {},
   "outputs": [],
   "source": [
    "def imputar_valores(df, df_estadisticas, df_reglas_imputacion):\n",
    "    for _, row in df_reglas_imputacion.iterrows():\n",
    "        columna = row['columna']\n",
    "        regla = row['regla']\n",
    "        \n",
    "        # Obtener las estadísticas correspondientes de la columna\n",
    "        stats = df_estadisticas[df_estadisticas['columna'] == columna].iloc[0]\n",
    "        \n",
    "        if regla == \"media\":\n",
    "            valor_imputar = stats['media']\n",
    "        elif regla == \"mediana\":\n",
    "            valor_imputar = stats['mediana']\n",
    "        elif regla == \"cuartil_1\":\n",
    "            valor_imputar = stats['cuartil_1']\n",
    "        elif regla == \"cuartil_3\":\n",
    "            valor_imputar = stats['cuartil_3']\n",
    "        elif regla == \"deciles\":\n",
    "            valor_imputar = stats['deciles']  # Aquí tomarías un valor de deciles, ajusta según cómo se almacenen\n",
    "        else:\n",
    "            # Si la regla es algo no contemplado, por defecto usa la media\n",
    "            valor_imputar = stats['media']\n",
    "        \n",
    "        # Imputar los valores faltantes\n",
    "        df[columna].fillna(valor_imputar, inplace=True)\n",
    "    \n",
    "    return df\n"
   ]
  },
  {
   "cell_type": "code",
   "execution_count": null,
   "id": "1128da8b-7f14-4bb1-b773-d89ba982a66a",
   "metadata": {},
   "outputs": [],
   "source": [
    "# Aplicar la imputación\n",
    "df = imputar_valores(df, df_estadisticas, df_reglas_imputacion)\n"
   ]
  },
  {
   "cell_type": "code",
   "execution_count": null,
   "id": "53051245-d60d-43d1-9ad2-79d8cd7b894b",
   "metadata": {},
   "outputs": [],
   "source": [
    "# Guardar el dataset imputado\n",
    "df.to_csv('dataset_imputado.csv.gz', index=False, compression='gzip')\n"
   ]
  },
  {
   "cell_type": "code",
   "execution_count": null,
   "id": "43a8383e-96eb-4ccd-9bd0-2ba5ff86694f",
   "metadata": {},
   "outputs": [],
   "source": []
  }
 ],
 "metadata": {
  "kernelspec": {
   "display_name": "Python 3 (ipykernel)",
   "language": "python",
   "name": "python3"
  },
  "language_info": {
   "codemirror_mode": {
    "name": "ipython",
    "version": 3
   },
   "file_extension": ".py",
   "mimetype": "text/x-python",
   "name": "python",
   "nbconvert_exporter": "python",
   "pygments_lexer": "ipython3",
   "version": "3.12.3"
  }
 },
 "nbformat": 4,
 "nbformat_minor": 5
}
